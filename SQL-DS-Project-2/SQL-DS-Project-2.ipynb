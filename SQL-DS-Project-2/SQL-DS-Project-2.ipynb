{
 "cells": [
  {
   "attachments": {
    "hh_ru_logo.jpg": {
     "image/jpeg": "[encoded data removed]"
    }
   },
   "cell_type": "markdown",
   "id": "64d057d2",
   "metadata": {},
   "source": [
    "![hh_ru_logo.jpg](attachment:hh_ru_logo.jpg)"
   ]
  },
  {
   "cell_type": "code",
   "execution_count": 1,
   "id": "ef348063",
   "metadata": {},
   "outputs": [
    {
     "name": "stdout",
     "output_type": "stream",
     "text": [
      "Requirement already satisfied: psycopg2 in c:\\programdata\\anaconda3\\lib\\site-packages (2.9.5)\n"
     ]
    }
   ],
   "source": [
    "!pip install psycopg2"
   ]
  },
  {
   "cell_type": "code",
   "execution_count": 2,
   "id": "207b3561",
   "metadata": {},
   "outputs": [],
   "source": [
    "import psycopg2\n",
    "import pandas as pd"
   ]
  },
  {
   "cell_type": "code",
   "execution_count": 4,
   "id": "aaf58e26",
   "metadata": {},
   "outputs": [],
   "source": [
    "connection = psycopg2.connect(\n",
    "   dbname=DBNAME,\n",
    "   user=USER,\n",
    "   host=HOST,\n",
    "   password=PASSWORD,\n",
    "   port=PORT\n",
    ")"
   ]
  },
  {
   "cell_type": "markdown",
   "id": "efd8e02a",
   "metadata": {},
   "source": [
    "# ПРЕДВАРИТЕЛЬНЫЙ АНАЛИЗ ДАННЫХ"
   ]
  },
  {
   "cell_type": "code",
   "execution_count": 5,
   "id": "98cc463b",
   "metadata": {},
   "outputs": [
    {
     "data": {
      "text/html": [
       "<div>\n",
       "<style scoped>\n",
       "    .dataframe tbody tr th:only-of-type {\n",
       "        vertical-align: middle;\n",
       "    }\n",
       "\n",
       "    .dataframe tbody tr th {\n",
       "        vertical-align: top;\n",
       "    }\n",
       "\n",
       "    .dataframe thead th {\n",
       "        text-align: right;\n",
       "    }\n",
       "</style>\n",
       "<table border=\"1\" class=\"dataframe\">\n",
       "  <thead>\n",
       "    <tr style=\"text-align: right;\">\n",
       "      <th></th>\n",
       "      <th>count</th>\n",
       "    </tr>\n",
       "  </thead>\n",
       "  <tbody>\n",
       "    <tr>\n",
       "      <th>0</th>\n",
       "      <td>49197</td>\n",
       "    </tr>\n",
       "  </tbody>\n",
       "</table>\n",
       "</div>"
      ],
      "text/plain": [
       "   count\n",
       "0  49197"
      ]
     },
     "execution_count": 5,
     "metadata": {},
     "output_type": "execute_result"
    }
   ],
   "source": [
    "# №1 Сколько вакансий есть в базе данных?:\n",
    "\n",
    "query = '''SELECT \n",
    "      COUNT(id)\n",
    "FROM vacancies\n",
    "'''\n",
    "df = pd.read_sql_query(query, connection)\n",
    "df"
   ]
  },
  {
   "cell_type": "code",
   "execution_count": 6,
   "id": "c3d6a927",
   "metadata": {},
   "outputs": [
    {
     "data": {
      "text/html": [
       "<div>\n",
       "<style scoped>\n",
       "    .dataframe tbody tr th:only-of-type {\n",
       "        vertical-align: middle;\n",
       "    }\n",
       "\n",
       "    .dataframe tbody tr th {\n",
       "        vertical-align: top;\n",
       "    }\n",
       "\n",
       "    .dataframe thead th {\n",
       "        text-align: right;\n",
       "    }\n",
       "</style>\n",
       "<table border=\"1\" class=\"dataframe\">\n",
       "  <thead>\n",
       "    <tr style=\"text-align: right;\">\n",
       "      <th></th>\n",
       "      <th>count</th>\n",
       "    </tr>\n",
       "  </thead>\n",
       "  <tbody>\n",
       "    <tr>\n",
       "      <th>0</th>\n",
       "      <td>23501</td>\n",
       "    </tr>\n",
       "  </tbody>\n",
       "</table>\n",
       "</div>"
      ],
      "text/plain": [
       "   count\n",
       "0  23501"
      ]
     },
     "execution_count": 6,
     "metadata": {},
     "output_type": "execute_result"
    }
   ],
   "source": [
    "# №2 Сколько работодателей?:\n",
    "\n",
    "query = '''SELECT DISTINCT \n",
    "      COUNT(name)\n",
    "FROM employers\n",
    "'''\n",
    "df = pd.read_sql_query(query, connection)\n",
    "df"
   ]
  },
  {
   "cell_type": "code",
   "execution_count": 7,
   "id": "c59c283b",
   "metadata": {},
   "outputs": [
    {
     "data": {
      "text/html": [
       "<div>\n",
       "<style scoped>\n",
       "    .dataframe tbody tr th:only-of-type {\n",
       "        vertical-align: middle;\n",
       "    }\n",
       "\n",
       "    .dataframe tbody tr th {\n",
       "        vertical-align: top;\n",
       "    }\n",
       "\n",
       "    .dataframe thead th {\n",
       "        text-align: right;\n",
       "    }\n",
       "</style>\n",
       "<table border=\"1\" class=\"dataframe\">\n",
       "  <thead>\n",
       "    <tr style=\"text-align: right;\">\n",
       "      <th></th>\n",
       "      <th>count</th>\n",
       "    </tr>\n",
       "  </thead>\n",
       "  <tbody>\n",
       "    <tr>\n",
       "      <th>0</th>\n",
       "      <td>1362</td>\n",
       "    </tr>\n",
       "  </tbody>\n",
       "</table>\n",
       "</div>"
      ],
      "text/plain": [
       "   count\n",
       "0   1362"
      ]
     },
     "execution_count": 7,
     "metadata": {},
     "output_type": "execute_result"
    }
   ],
   "source": [
    "# №3 Сколько регионов?:\n",
    "\n",
    "query = '''SELECT DISTINCT \n",
    "      COUNT(name)\n",
    "FROM areas\n",
    "'''\n",
    "df = pd.read_sql_query(query, connection)\n",
    "df"
   ]
  },
  {
   "cell_type": "code",
   "execution_count": 8,
   "id": "6f8acf80",
   "metadata": {},
   "outputs": [
    {
     "data": {
      "text/html": [
       "<div>\n",
       "<style scoped>\n",
       "    .dataframe tbody tr th:only-of-type {\n",
       "        vertical-align: middle;\n",
       "    }\n",
       "\n",
       "    .dataframe tbody tr th {\n",
       "        vertical-align: top;\n",
       "    }\n",
       "\n",
       "    .dataframe thead th {\n",
       "        text-align: right;\n",
       "    }\n",
       "</style>\n",
       "<table border=\"1\" class=\"dataframe\">\n",
       "  <thead>\n",
       "    <tr style=\"text-align: right;\">\n",
       "      <th></th>\n",
       "      <th>count</th>\n",
       "    </tr>\n",
       "  </thead>\n",
       "  <tbody>\n",
       "    <tr>\n",
       "      <th>0</th>\n",
       "      <td>294</td>\n",
       "    </tr>\n",
       "  </tbody>\n",
       "</table>\n",
       "</div>"
      ],
      "text/plain": [
       "   count\n",
       "0    294"
      ]
     },
     "execution_count": 8,
     "metadata": {},
     "output_type": "execute_result"
    }
   ],
   "source": [
    "# №4 Сколько сфер деятельности?:\n",
    "\n",
    "query = '''SELECT DISTINCT \n",
    "      COUNT(name)\n",
    "FROM industries\n",
    "'''\n",
    "df = pd.read_sql_query(query, connection)\n",
    "df"
   ]
  },
  {
   "cell_type": "markdown",
   "id": "07c7802e",
   "metadata": {},
   "source": [
    "Таким образом, с помощью запросов, мы получили следующие данные:\n",
    " - 49197 количество вакансий в базе данных;\n",
    " - 23501 количество работодателей в базе данных;\n",
    " - 1362 количество охватываемых регионов в базе данных;\n",
    " - 294 количество сфер деятельности работодателей в базе данных."
   ]
  },
  {
   "cell_type": "markdown",
   "id": "ea48017f",
   "metadata": {},
   "source": [
    "# ДЕТАЛЬНЫЙ АНАЛИЗ ВАКАНСИЙ"
   ]
  },
  {
   "cell_type": "code",
   "execution_count": 9,
   "id": "3897acc0",
   "metadata": {},
   "outputs": [
    {
     "data": {
      "text/html": [
       "<div>\n",
       "<style scoped>\n",
       "    .dataframe tbody tr th:only-of-type {\n",
       "        vertical-align: middle;\n",
       "    }\n",
       "\n",
       "    .dataframe tbody tr th {\n",
       "        vertical-align: top;\n",
       "    }\n",
       "\n",
       "    .dataframe thead th {\n",
       "        text-align: right;\n",
       "    }\n",
       "</style>\n",
       "<table border=\"1\" class=\"dataframe\">\n",
       "  <thead>\n",
       "    <tr style=\"text-align: right;\">\n",
       "      <th></th>\n",
       "      <th>region</th>\n",
       "      <th>cnt</th>\n",
       "    </tr>\n",
       "  </thead>\n",
       "  <tbody>\n",
       "    <tr>\n",
       "      <th>0</th>\n",
       "      <td>Москва</td>\n",
       "      <td>5333</td>\n",
       "    </tr>\n",
       "    <tr>\n",
       "      <th>1</th>\n",
       "      <td>Санкт-Петербург</td>\n",
       "      <td>2851</td>\n",
       "    </tr>\n",
       "    <tr>\n",
       "      <th>2</th>\n",
       "      <td>Минск</td>\n",
       "      <td>2112</td>\n",
       "    </tr>\n",
       "    <tr>\n",
       "      <th>3</th>\n",
       "      <td>Новосибирск</td>\n",
       "      <td>2006</td>\n",
       "    </tr>\n",
       "    <tr>\n",
       "      <th>4</th>\n",
       "      <td>Алматы</td>\n",
       "      <td>1892</td>\n",
       "    </tr>\n",
       "  </tbody>\n",
       "</table>\n",
       "</div>"
      ],
      "text/plain": [
       "            region   cnt\n",
       "0           Москва  5333\n",
       "1  Санкт-Петербург  2851\n",
       "2            Минск  2112\n",
       "3      Новосибирск  2006\n",
       "4           Алматы  1892"
      ]
     },
     "execution_count": 9,
     "metadata": {},
     "output_type": "execute_result"
    }
   ],
   "source": [
    "# №1 Выведем  и количество предлагаемых в них вакансий:\n",
    "\n",
    "query = f'''SELECT\n",
    "    a.name region,\n",
    "    COUNT(v.id) cnt\n",
    "FROM vacancies v\n",
    "JOIN areas a on a.id = v.area_id \n",
    "GROUP BY 1\n",
    "ORDER BY 2 DESC\n",
    "LIMIT 5\n",
    "'''\n",
    "\n",
    "df = pd.read_sql_query(query, connection)\n",
    "df"
   ]
  },
  {
   "cell_type": "markdown",
   "id": "5ac9f7c3",
   "metadata": {},
   "source": [
    "С помощью данного запроса, мы наблюдаем топ-5 городов, где публикуются наибольшее количество вакансий, соответственно, это Москва, Санкт-Петербург,  Минск, Новосибирск, Алматы."
   ]
  },
  {
   "cell_type": "code",
   "execution_count": 10,
   "id": "0d0c124d",
   "metadata": {},
   "outputs": [
    {
     "data": {
      "text/html": [
       "<div>\n",
       "<style scoped>\n",
       "    .dataframe tbody tr th:only-of-type {\n",
       "        vertical-align: middle;\n",
       "    }\n",
       "\n",
       "    .dataframe tbody tr th {\n",
       "        vertical-align: top;\n",
       "    }\n",
       "\n",
       "    .dataframe thead th {\n",
       "        text-align: right;\n",
       "    }\n",
       "</style>\n",
       "<table border=\"1\" class=\"dataframe\">\n",
       "  <thead>\n",
       "    <tr style=\"text-align: right;\">\n",
       "      <th></th>\n",
       "      <th>count</th>\n",
       "    </tr>\n",
       "  </thead>\n",
       "  <tbody>\n",
       "    <tr>\n",
       "      <th>0</th>\n",
       "      <td>24073</td>\n",
       "    </tr>\n",
       "  </tbody>\n",
       "</table>\n",
       "</div>"
      ],
      "text/plain": [
       "   count\n",
       "0  24073"
      ]
     },
     "execution_count": 10,
     "metadata": {},
     "output_type": "execute_result"
    }
   ],
   "source": [
    "# №2 Посмотрим у какого количества вакансий заполнено хотя бы одно из двух полей с зарплатой?:\n",
    "\n",
    "query = f'''SELECT\n",
    "                    COUNT(*)\n",
    "            FROM vacancies v\n",
    "            WHERE v.salary_from IS NOT NULL OR v.salary_to IS NOT NULL\n",
    "            '''\n",
    "df = pd.read_sql_query(query, connection)\n",
    "df"
   ]
  },
  {
   "cell_type": "code",
   "execution_count": 11,
   "id": "df0a856a",
   "metadata": {},
   "outputs": [
    {
     "data": {
      "text/html": [
       "<div>\n",
       "<style scoped>\n",
       "    .dataframe tbody tr th:only-of-type {\n",
       "        vertical-align: middle;\n",
       "    }\n",
       "\n",
       "    .dataframe tbody tr th {\n",
       "        vertical-align: top;\n",
       "    }\n",
       "\n",
       "    .dataframe thead th {\n",
       "        text-align: right;\n",
       "    }\n",
       "</style>\n",
       "<table border=\"1\" class=\"dataframe\">\n",
       "  <thead>\n",
       "    <tr style=\"text-align: right;\">\n",
       "      <th></th>\n",
       "      <th>salary_from</th>\n",
       "      <th>salary_to</th>\n",
       "    </tr>\n",
       "  </thead>\n",
       "  <tbody>\n",
       "    <tr>\n",
       "      <th>0</th>\n",
       "      <td>71064</td>\n",
       "      <td>110536</td>\n",
       "    </tr>\n",
       "  </tbody>\n",
       "</table>\n",
       "</div>"
      ],
      "text/plain": [
       "   salary_from  salary_to\n",
       "0        71064     110536"
      ]
     },
     "execution_count": 11,
     "metadata": {},
     "output_type": "execute_result"
    }
   ],
   "source": [
    "# №3 Исследуем средние значения для нижней и верхней границы зарплатной вилки:\n",
    "\n",
    "query = '''SELECT\n",
    "               SUM(salary_from) / COUNT(salary_from) salary_from,\n",
    "               SUM(salary_to) / COUNT(salary_to) salary_to\n",
    "           FROM vacancies\n",
    "           '''\n",
    "\n",
    "df = pd.read_sql_query(query, connection)\n",
    "df"
   ]
  },
  {
   "cell_type": "code",
   "execution_count": 12,
   "id": "58d4a898",
   "metadata": {},
   "outputs": [
    {
     "data": {
      "text/html": [
       "<div>\n",
       "<style scoped>\n",
       "    .dataframe tbody tr th:only-of-type {\n",
       "        vertical-align: middle;\n",
       "    }\n",
       "\n",
       "    .dataframe tbody tr th {\n",
       "        vertical-align: top;\n",
       "    }\n",
       "\n",
       "    .dataframe thead th {\n",
       "        text-align: right;\n",
       "    }\n",
       "</style>\n",
       "<table border=\"1\" class=\"dataframe\">\n",
       "  <thead>\n",
       "    <tr style=\"text-align: right;\">\n",
       "      <th></th>\n",
       "      <th>schedule</th>\n",
       "      <th>employment</th>\n",
       "      <th>sum</th>\n",
       "    </tr>\n",
       "  </thead>\n",
       "  <tbody>\n",
       "    <tr>\n",
       "      <th>0</th>\n",
       "      <td>Полный день</td>\n",
       "      <td>Полная занятость</td>\n",
       "      <td>35367</td>\n",
       "    </tr>\n",
       "    <tr>\n",
       "      <th>1</th>\n",
       "      <td>Удаленная работа</td>\n",
       "      <td>Полная занятость</td>\n",
       "      <td>7802</td>\n",
       "    </tr>\n",
       "    <tr>\n",
       "      <th>2</th>\n",
       "      <td>Гибкий график</td>\n",
       "      <td>Полная занятость</td>\n",
       "      <td>1593</td>\n",
       "    </tr>\n",
       "    <tr>\n",
       "      <th>3</th>\n",
       "      <td>Удаленная работа</td>\n",
       "      <td>Частичная занятость</td>\n",
       "      <td>1312</td>\n",
       "    </tr>\n",
       "    <tr>\n",
       "      <th>4</th>\n",
       "      <td>Сменный график</td>\n",
       "      <td>Полная занятость</td>\n",
       "      <td>940</td>\n",
       "    </tr>\n",
       "    <tr>\n",
       "      <th>5</th>\n",
       "      <td>Полный день</td>\n",
       "      <td>Стажировка</td>\n",
       "      <td>569</td>\n",
       "    </tr>\n",
       "    <tr>\n",
       "      <th>6</th>\n",
       "      <td>Вахтовый метод</td>\n",
       "      <td>Полная занятость</td>\n",
       "      <td>367</td>\n",
       "    </tr>\n",
       "    <tr>\n",
       "      <th>7</th>\n",
       "      <td>Полный день</td>\n",
       "      <td>Частичная занятость</td>\n",
       "      <td>347</td>\n",
       "    </tr>\n",
       "    <tr>\n",
       "      <th>8</th>\n",
       "      <td>Гибкий график</td>\n",
       "      <td>Частичная занятость</td>\n",
       "      <td>312</td>\n",
       "    </tr>\n",
       "    <tr>\n",
       "      <th>9</th>\n",
       "      <td>Полный день</td>\n",
       "      <td>Проектная работа</td>\n",
       "      <td>141</td>\n",
       "    </tr>\n",
       "    <tr>\n",
       "      <th>10</th>\n",
       "      <td>Удаленная работа</td>\n",
       "      <td>Проектная работа</td>\n",
       "      <td>133</td>\n",
       "    </tr>\n",
       "    <tr>\n",
       "      <th>11</th>\n",
       "      <td>Гибкий график</td>\n",
       "      <td>Стажировка</td>\n",
       "      <td>116</td>\n",
       "    </tr>\n",
       "    <tr>\n",
       "      <th>12</th>\n",
       "      <td>Сменный график</td>\n",
       "      <td>Частичная занятость</td>\n",
       "      <td>101</td>\n",
       "    </tr>\n",
       "    <tr>\n",
       "      <th>13</th>\n",
       "      <td>Удаленная работа</td>\n",
       "      <td>Стажировка</td>\n",
       "      <td>64</td>\n",
       "    </tr>\n",
       "    <tr>\n",
       "      <th>14</th>\n",
       "      <td>Гибкий график</td>\n",
       "      <td>Проектная работа</td>\n",
       "      <td>18</td>\n",
       "    </tr>\n",
       "    <tr>\n",
       "      <th>15</th>\n",
       "      <td>Сменный график</td>\n",
       "      <td>Стажировка</td>\n",
       "      <td>12</td>\n",
       "    </tr>\n",
       "    <tr>\n",
       "      <th>16</th>\n",
       "      <td>Вахтовый метод</td>\n",
       "      <td>Проектная работа</td>\n",
       "      <td>2</td>\n",
       "    </tr>\n",
       "    <tr>\n",
       "      <th>17</th>\n",
       "      <td>Сменный график</td>\n",
       "      <td>Проектная работа</td>\n",
       "      <td>1</td>\n",
       "    </tr>\n",
       "  </tbody>\n",
       "</table>\n",
       "</div>"
      ],
      "text/plain": [
       "            schedule           employment    sum\n",
       "0        Полный день     Полная занятость  35367\n",
       "1   Удаленная работа     Полная занятость   7802\n",
       "2      Гибкий график     Полная занятость   1593\n",
       "3   Удаленная работа  Частичная занятость   1312\n",
       "4     Сменный график     Полная занятость    940\n",
       "5        Полный день           Стажировка    569\n",
       "6     Вахтовый метод     Полная занятость    367\n",
       "7        Полный день  Частичная занятость    347\n",
       "8      Гибкий график  Частичная занятость    312\n",
       "9        Полный день     Проектная работа    141\n",
       "10  Удаленная работа     Проектная работа    133\n",
       "11     Гибкий график           Стажировка    116\n",
       "12    Сменный график  Частичная занятость    101\n",
       "13  Удаленная работа           Стажировка     64\n",
       "14     Гибкий график     Проектная работа     18\n",
       "15    Сменный график           Стажировка     12\n",
       "16    Вахтовый метод     Проектная работа      2\n",
       "17    Сменный график     Проектная работа      1"
      ]
     },
     "execution_count": 12,
     "metadata": {},
     "output_type": "execute_result"
    }
   ],
   "source": [
    "# №4 Напишем запрос, который выведет количество вакансий для каждого сочетания \n",
    "# типа рабочего графика (schedule) и типа трудоустройства (employment), используемого в вакансиях:\n",
    "\n",
    "query = '''SELECT DISTINCT \n",
    "                   schedule,\n",
    "                   employment,\n",
    "                   COUNT(id) sum\n",
    "           FROM vacancies\n",
    "           GROUP BY schedule, employment\n",
    "           ORDER BY sum DESC\n",
    "           '''\n",
    "df = pd.read_sql_query(query, connection)\n",
    "df"
   ]
  },
  {
   "cell_type": "markdown",
   "id": "c3c3a963",
   "metadata": {},
   "source": [
    "Из данного запроса мы можем отметить, что большинство вакансий опубликованы с условием полной занятости. Существенно меньшая часть рассматривает трудоустройство работников на условиях частичной занятости. Исходя из предпочтений работадателей по рабочему графику, мы видим, что большая часть вакансий имеют условие полного рабочего дня, на втором месте - удаленная работа."
   ]
  },
  {
   "cell_type": "code",
   "execution_count": 13,
   "id": "98eaac71",
   "metadata": {},
   "outputs": [
    {
     "data": {
      "text/html": [
       "<div>\n",
       "<style scoped>\n",
       "    .dataframe tbody tr th:only-of-type {\n",
       "        vertical-align: middle;\n",
       "    }\n",
       "\n",
       "    .dataframe tbody tr th {\n",
       "        vertical-align: top;\n",
       "    }\n",
       "\n",
       "    .dataframe thead th {\n",
       "        text-align: right;\n",
       "    }\n",
       "</style>\n",
       "<table border=\"1\" class=\"dataframe\">\n",
       "  <thead>\n",
       "    <tr style=\"text-align: right;\">\n",
       "      <th></th>\n",
       "      <th>experience</th>\n",
       "      <th>sum</th>\n",
       "    </tr>\n",
       "  </thead>\n",
       "  <tbody>\n",
       "    <tr>\n",
       "      <th>0</th>\n",
       "      <td>От 1 года до 3 лет</td>\n",
       "      <td>26152</td>\n",
       "    </tr>\n",
       "    <tr>\n",
       "      <th>1</th>\n",
       "      <td>От 3 до 6 лет</td>\n",
       "      <td>14511</td>\n",
       "    </tr>\n",
       "    <tr>\n",
       "      <th>2</th>\n",
       "      <td>Нет опыта</td>\n",
       "      <td>7197</td>\n",
       "    </tr>\n",
       "    <tr>\n",
       "      <th>3</th>\n",
       "      <td>Более 6 лет</td>\n",
       "      <td>1337</td>\n",
       "    </tr>\n",
       "  </tbody>\n",
       "</table>\n",
       "</div>"
      ],
      "text/plain": [
       "           experience    sum\n",
       "0  От 1 года до 3 лет  26152\n",
       "1       От 3 до 6 лет  14511\n",
       "2           Нет опыта   7197\n",
       "3         Более 6 лет   1337"
      ]
     },
     "execution_count": 13,
     "metadata": {},
     "output_type": "execute_result"
    }
   ],
   "source": [
    "# №5 Напишем запрос, выводящий значения поля Требуемый опыт работы (experience) \n",
    "# в порядке возрастания количества вакансий, в которых указан данный вариант опыта:\n",
    "\n",
    "query = '''SELECT\n",
    "                experience,\n",
    "                COUNT(id) sum\n",
    "            FROM vacancies\n",
    "            GROUP BY experience\n",
    "            ORDER BY sum DESC\n",
    "            '''\n",
    "df = pd.read_sql_query(query, connection)\n",
    "df"
   ]
  },
  {
   "cell_type": "markdown",
   "id": "71107e3e",
   "metadata": {},
   "source": [
    "В данном случае, мы наблюдаем, что большинство вакакнсий имеют требование стажа работы от одного до трех лет опыта работы. Категория, где опыт работы не требуется стоит лишь на третьем месте обходя по количеству вакансий категорию с требованием стажа работы более шести лет."
   ]
  },
  {
   "cell_type": "markdown",
   "id": "e122fb8a",
   "metadata": {},
   "source": [
    "# АНАЛИЗ РАБОТОДАТЕЛЕЙ"
   ]
  },
  {
   "cell_type": "code",
   "execution_count": 14,
   "id": "b5652670",
   "metadata": {},
   "outputs": [
    {
     "data": {
      "text/html": [
       "<div>\n",
       "<style scoped>\n",
       "    .dataframe tbody tr th:only-of-type {\n",
       "        vertical-align: middle;\n",
       "    }\n",
       "\n",
       "    .dataframe tbody tr th {\n",
       "        vertical-align: top;\n",
       "    }\n",
       "\n",
       "    .dataframe thead th {\n",
       "        text-align: right;\n",
       "    }\n",
       "</style>\n",
       "<table border=\"1\" class=\"dataframe\">\n",
       "  <thead>\n",
       "    <tr style=\"text-align: right;\">\n",
       "      <th></th>\n",
       "      <th>name</th>\n",
       "      <th>sum</th>\n",
       "    </tr>\n",
       "  </thead>\n",
       "  <tbody>\n",
       "    <tr>\n",
       "      <th>0</th>\n",
       "      <td>Яндекс</td>\n",
       "      <td>1933</td>\n",
       "    </tr>\n",
       "    <tr>\n",
       "      <th>1</th>\n",
       "      <td>Ростелеком</td>\n",
       "      <td>491</td>\n",
       "    </tr>\n",
       "    <tr>\n",
       "      <th>2</th>\n",
       "      <td>Тинькофф</td>\n",
       "      <td>444</td>\n",
       "    </tr>\n",
       "    <tr>\n",
       "      <th>3</th>\n",
       "      <td>СБЕР</td>\n",
       "      <td>428</td>\n",
       "    </tr>\n",
       "    <tr>\n",
       "      <th>4</th>\n",
       "      <td>Газпром нефть</td>\n",
       "      <td>331</td>\n",
       "    </tr>\n",
       "  </tbody>\n",
       "</table>\n",
       "</div>"
      ],
      "text/plain": [
       "            name   sum\n",
       "0         Яндекс  1933\n",
       "1     Ростелеком   491\n",
       "2       Тинькофф   444\n",
       "3           СБЕР   428\n",
       "4  Газпром нефть   331"
      ]
     },
     "execution_count": 14,
     "metadata": {},
     "output_type": "execute_result"
    }
   ],
   "source": [
    "# №1 Напишем запрос, который позволит узнать, \n",
    "# какие работодатели находятся на первом месте по количеству вакансий:\n",
    "\n",
    "query = '''SELECT\n",
    "                e.name,\n",
    "                COUNT(v.id) sum\n",
    "            FROM vacancies v\n",
    "            JOIN employers e ON e.id = v.employer_id\n",
    "            GROUP BY e.name\n",
    "            ORDER BY sum DESC\n",
    "            LIMIT 5\n",
    "            '''\n",
    "df = pd.read_sql_query(query, connection)\n",
    "df"
   ]
  },
  {
   "cell_type": "markdown",
   "id": "c711ac43",
   "metadata": {},
   "source": [
    "Будет логичным понять, что пятерку компаний по количеству предлогаемых вакансий занимают компании федерального уровня. На общем фоне сильно выделяется компания Яндекс, которая предлогает 1933 вакансии, остальные не сильно различаются в анализируемом числе и находятся в диапазоне от 331 до 491."
   ]
  },
  {
   "cell_type": "code",
   "execution_count": 15,
   "id": "9e74af8b",
   "metadata": {},
   "outputs": [
    {
     "data": {
      "text/html": [
       "<div>\n",
       "<style scoped>\n",
       "    .dataframe tbody tr th:only-of-type {\n",
       "        vertical-align: middle;\n",
       "    }\n",
       "\n",
       "    .dataframe tbody tr th {\n",
       "        vertical-align: top;\n",
       "    }\n",
       "\n",
       "    .dataframe thead th {\n",
       "        text-align: right;\n",
       "    }\n",
       "</style>\n",
       "<table border=\"1\" class=\"dataframe\">\n",
       "  <thead>\n",
       "    <tr style=\"text-align: right;\">\n",
       "      <th></th>\n",
       "      <th>name</th>\n",
       "      <th>employers</th>\n",
       "    </tr>\n",
       "  </thead>\n",
       "  <tbody>\n",
       "    <tr>\n",
       "      <th>0</th>\n",
       "      <td>Россия</td>\n",
       "      <td>410</td>\n",
       "    </tr>\n",
       "    <tr>\n",
       "      <th>1</th>\n",
       "      <td>Казахстан</td>\n",
       "      <td>207</td>\n",
       "    </tr>\n",
       "    <tr>\n",
       "      <th>2</th>\n",
       "      <td>Московская область</td>\n",
       "      <td>75</td>\n",
       "    </tr>\n",
       "    <tr>\n",
       "      <th>3</th>\n",
       "      <td>Краснодарский край</td>\n",
       "      <td>19</td>\n",
       "    </tr>\n",
       "    <tr>\n",
       "      <th>4</th>\n",
       "      <td>Беларусь</td>\n",
       "      <td>18</td>\n",
       "    </tr>\n",
       "  </tbody>\n",
       "</table>\n",
       "</div>"
      ],
      "text/plain": [
       "                 name  employers\n",
       "0              Россия        410\n",
       "1           Казахстан        207\n",
       "2  Московская область         75\n",
       "3  Краснодарский край         19\n",
       "4            Беларусь         18"
      ]
     },
     "execution_count": 15,
     "metadata": {},
     "output_type": "execute_result"
    }
   ],
   "source": [
    "# №2 Напишем запрос, который для каждого региона выведет количество работодателей в нём:\n",
    "\n",
    "query = '''SELECT DISTINCT\n",
    "                a.name,\n",
    "                COUNT(DISTINCT e.id) employers\n",
    "            FROM areas a\n",
    "            LEFT JOIN employers e ON e.area = a.id\n",
    "            LEFT JOIN vacancies v ON v.area_id = a.id\n",
    "            WHERE v.id IS NULL\n",
    "            GROUP BY a.id\n",
    "            ORDER BY employers DESC\n",
    "            LIMIT 5\n",
    "            '''\n",
    "df = pd.read_sql_query(query, connection)\n",
    "df"
   ]
  },
  {
   "cell_type": "markdown",
   "id": "6b371965",
   "metadata": {},
   "source": [
    "В данном запросе, мы вывели первую пятерку регионов по количеств работадателей. Можно заметить, что в Казахстане в два раза меньше работадателей, чем в России, а Московская область занимает практически 1/4 от всего объема работадателей в стране."
   ]
  },
  {
   "cell_type": "code",
   "execution_count": 16,
   "id": "a6e93d2e",
   "metadata": {},
   "outputs": [
    {
     "data": {
      "text/html": [
       "<div>\n",
       "<style scoped>\n",
       "    .dataframe tbody tr th:only-of-type {\n",
       "        vertical-align: middle;\n",
       "    }\n",
       "\n",
       "    .dataframe tbody tr th {\n",
       "        vertical-align: top;\n",
       "    }\n",
       "\n",
       "    .dataframe thead th {\n",
       "        text-align: right;\n",
       "    }\n",
       "</style>\n",
       "<table border=\"1\" class=\"dataframe\">\n",
       "  <thead>\n",
       "    <tr style=\"text-align: right;\">\n",
       "      <th></th>\n",
       "      <th>name</th>\n",
       "      <th>areas</th>\n",
       "    </tr>\n",
       "  </thead>\n",
       "  <tbody>\n",
       "    <tr>\n",
       "      <th>0</th>\n",
       "      <td>Яндекс</td>\n",
       "      <td>181</td>\n",
       "    </tr>\n",
       "    <tr>\n",
       "      <th>1</th>\n",
       "      <td>Ростелеком</td>\n",
       "      <td>152</td>\n",
       "    </tr>\n",
       "    <tr>\n",
       "      <th>2</th>\n",
       "      <td>Спецремонт</td>\n",
       "      <td>116</td>\n",
       "    </tr>\n",
       "    <tr>\n",
       "      <th>3</th>\n",
       "      <td>Поляков Денис Иванович</td>\n",
       "      <td>88</td>\n",
       "    </tr>\n",
       "    <tr>\n",
       "      <th>4</th>\n",
       "      <td>ООО ЕФИН</td>\n",
       "      <td>71</td>\n",
       "    </tr>\n",
       "  </tbody>\n",
       "</table>\n",
       "</div>"
      ],
      "text/plain": [
       "                     name  areas\n",
       "0                  Яндекс    181\n",
       "1              Ростелеком    152\n",
       "2              Спецремонт    116\n",
       "3  Поляков Денис Иванович     88\n",
       "4               ООО ЕФИН      71"
      ]
     },
     "execution_count": 16,
     "metadata": {},
     "output_type": "execute_result"
    }
   ],
   "source": [
    "# №3 Для каждого работодателя посчитаем количество регионов, в которых он публикует свои вакансии:\n",
    "\n",
    "query = '''SELECT\n",
    "                e.name,\n",
    "                COUNT(DISTINCT v.area_id) areas\n",
    "            FROM employers e\n",
    "            JOIN vacancies v ON v.employer_id = e.id\n",
    "            GROUP BY e.name\n",
    "            ORDER BY areas DESC\n",
    "            LIMIT 5\n",
    "            '''\n",
    "df = pd.read_sql_query(query, connection)\n",
    "df"
   ]
  },
  {
   "cell_type": "markdown",
   "id": "45efbaa2",
   "metadata": {},
   "source": [
    "В данном запросе у нас снова отличилась компания Яндекс, которая публикуюет свои вакансии в 181 регионе. Примечательно, что в данной пятерке не только юридические лица, но и индивидуальный предприниматель - Поляков Денис Иванович, который публикует свои вакансии в 88-ми регионах, что не является обычным для ИП."
   ]
  },
  {
   "cell_type": "code",
   "execution_count": 17,
   "id": "be3a9c06",
   "metadata": {},
   "outputs": [
    {
     "data": {
      "text/html": [
       "<div>\n",
       "<style scoped>\n",
       "    .dataframe tbody tr th:only-of-type {\n",
       "        vertical-align: middle;\n",
       "    }\n",
       "\n",
       "    .dataframe tbody tr th {\n",
       "        vertical-align: top;\n",
       "    }\n",
       "\n",
       "    .dataframe thead th {\n",
       "        text-align: right;\n",
       "    }\n",
       "</style>\n",
       "<table border=\"1\" class=\"dataframe\">\n",
       "  <thead>\n",
       "    <tr style=\"text-align: right;\">\n",
       "      <th></th>\n",
       "      <th>sum</th>\n",
       "    </tr>\n",
       "  </thead>\n",
       "  <tbody>\n",
       "    <tr>\n",
       "      <th>0</th>\n",
       "      <td>8419</td>\n",
       "    </tr>\n",
       "  </tbody>\n",
       "</table>\n",
       "</div>"
      ],
      "text/plain": [
       "    sum\n",
       "0  8419"
      ]
     },
     "execution_count": 17,
     "metadata": {},
     "output_type": "execute_result"
    }
   ],
   "source": [
    "# №4 Напишем запрос для подсчёта количества работодателей, у которых не указана сфера деятельности:\n",
    "\n",
    "query = '''SELECT\n",
    "                COUNT(e.id) sum\n",
    "            FROM employers e\n",
    "            LEFT JOIN employers_industries ei ON ei.employer_id = e.id\n",
    "            WHERE ei.industry_id IS NULL\n",
    "            '''\n",
    "df = pd.read_sql_query(query, connection)\n",
    "df"
   ]
  },
  {
   "cell_type": "code",
   "execution_count": 18,
   "id": "9aeae0e8",
   "metadata": {},
   "outputs": [
    {
     "data": {
      "text/html": [
       "<div>\n",
       "<style scoped>\n",
       "    .dataframe tbody tr th:only-of-type {\n",
       "        vertical-align: middle;\n",
       "    }\n",
       "\n",
       "    .dataframe tbody tr th {\n",
       "        vertical-align: top;\n",
       "    }\n",
       "\n",
       "    .dataframe thead th {\n",
       "        text-align: right;\n",
       "    }\n",
       "</style>\n",
       "<table border=\"1\" class=\"dataframe\">\n",
       "  <thead>\n",
       "    <tr style=\"text-align: right;\">\n",
       "      <th></th>\n",
       "      <th>name</th>\n",
       "      <th>sum</th>\n",
       "    </tr>\n",
       "  </thead>\n",
       "  <tbody>\n",
       "    <tr>\n",
       "      <th>0</th>\n",
       "      <td>2ГИС</td>\n",
       "      <td>4</td>\n",
       "    </tr>\n",
       "  </tbody>\n",
       "</table>\n",
       "</div>"
      ],
      "text/plain": [
       "   name  sum\n",
       "0  2ГИС    4"
      ]
     },
     "execution_count": 18,
     "metadata": {},
     "output_type": "execute_result"
    }
   ],
   "source": [
    "# №5 Напишем запрос, чтобы узнать название компании, находящейся на третьем месте \n",
    "# в алфавитном списке (по названию) компаний, у которых указано четыре сферы деятельности.\n",
    "\n",
    "query = '''SELECT\n",
    "                e.name,\n",
    "                COUNT(ei.employer_id) sum\n",
    "            FROM employers_industries ei\n",
    "            LEFT JOIN industries i ON ei.industry_id = i.id\n",
    "            LEFT JOIN employers e ON e.id = ei.employer_id\n",
    "            GROUP BY 1\n",
    "            HAVING COUNT(ei.employer_id) = 4\n",
    "            ORDER BY e.name\n",
    "            OFFSET 2 LIMIT 1\n",
    "            '''\n",
    "df = pd.read_sql_query(query, connection)\n",
    "df"
   ]
  },
  {
   "cell_type": "code",
   "execution_count": 19,
   "id": "f3c06f4d",
   "metadata": {},
   "outputs": [
    {
     "data": {
      "text/html": [
       "<div>\n",
       "<style scoped>\n",
       "    .dataframe tbody tr th:only-of-type {\n",
       "        vertical-align: middle;\n",
       "    }\n",
       "\n",
       "    .dataframe tbody tr th {\n",
       "        vertical-align: top;\n",
       "    }\n",
       "\n",
       "    .dataframe thead th {\n",
       "        text-align: right;\n",
       "    }\n",
       "</style>\n",
       "<table border=\"1\" class=\"dataframe\">\n",
       "  <thead>\n",
       "    <tr style=\"text-align: right;\">\n",
       "      <th></th>\n",
       "      <th>sum</th>\n",
       "    </tr>\n",
       "  </thead>\n",
       "  <tbody>\n",
       "    <tr>\n",
       "      <th>0</th>\n",
       "      <td>3553</td>\n",
       "    </tr>\n",
       "  </tbody>\n",
       "</table>\n",
       "</div>"
      ],
      "text/plain": [
       "    sum\n",
       "0  3553"
      ]
     },
     "execution_count": 19,
     "metadata": {},
     "output_type": "execute_result"
    }
   ],
   "source": [
    "# №6 С помощью запроса выясним, у какого количества работодателей \n",
    "# в качестве сферы деятельности указана «Разработка программного обеспечения»:\n",
    "\n",
    "query = '''SELECT\n",
    "                COUNT(e.id) sum\n",
    "            FROM employers e \n",
    "            LEFT JOIN employers_industries ei ON ei.employer_id = e.id\n",
    "            LEFT JOIN industries i ON ei.industry_id = i.id\n",
    "            WHERE i.name = 'Разработка программного обеспечения'\n",
    "            '''\n",
    "df = pd.read_sql_query(query, connection)\n",
    "df\n"
   ]
  },
  {
   "cell_type": "code",
   "execution_count": 20,
   "id": "7e975f64",
   "metadata": {},
   "outputs": [
    {
     "data": {
      "text/html": [
       "<div>\n",
       "<style scoped>\n",
       "    .dataframe tbody tr th:only-of-type {\n",
       "        vertical-align: middle;\n",
       "    }\n",
       "\n",
       "    .dataframe tbody tr th {\n",
       "        vertical-align: top;\n",
       "    }\n",
       "\n",
       "    .dataframe thead th {\n",
       "        text-align: right;\n",
       "    }\n",
       "</style>\n",
       "<table border=\"1\" class=\"dataframe\">\n",
       "  <thead>\n",
       "    <tr style=\"text-align: right;\">\n",
       "      <th></th>\n",
       "      <th>name</th>\n",
       "      <th>qty_vacancies</th>\n",
       "    </tr>\n",
       "  </thead>\n",
       "  <tbody>\n",
       "    <tr>\n",
       "      <th>0</th>\n",
       "      <td>Волгоград</td>\n",
       "      <td>24.0</td>\n",
       "    </tr>\n",
       "    <tr>\n",
       "      <th>1</th>\n",
       "      <td>Воронеж</td>\n",
       "      <td>32.0</td>\n",
       "    </tr>\n",
       "    <tr>\n",
       "      <th>2</th>\n",
       "      <td>Екатеринбург</td>\n",
       "      <td>39.0</td>\n",
       "    </tr>\n",
       "    <tr>\n",
       "      <th>3</th>\n",
       "      <td>Казань</td>\n",
       "      <td>25.0</td>\n",
       "    </tr>\n",
       "    <tr>\n",
       "      <th>4</th>\n",
       "      <td>Краснодар</td>\n",
       "      <td>30.0</td>\n",
       "    </tr>\n",
       "    <tr>\n",
       "      <th>5</th>\n",
       "      <td>Красноярск</td>\n",
       "      <td>23.0</td>\n",
       "    </tr>\n",
       "    <tr>\n",
       "      <th>6</th>\n",
       "      <td>Москва</td>\n",
       "      <td>54.0</td>\n",
       "    </tr>\n",
       "    <tr>\n",
       "      <th>7</th>\n",
       "      <td>Нижний Новгород</td>\n",
       "      <td>36.0</td>\n",
       "    </tr>\n",
       "    <tr>\n",
       "      <th>8</th>\n",
       "      <td>Новосибирск</td>\n",
       "      <td>35.0</td>\n",
       "    </tr>\n",
       "    <tr>\n",
       "      <th>9</th>\n",
       "      <td>Омск</td>\n",
       "      <td>21.0</td>\n",
       "    </tr>\n",
       "    <tr>\n",
       "      <th>10</th>\n",
       "      <td>Пермь</td>\n",
       "      <td>25.0</td>\n",
       "    </tr>\n",
       "    <tr>\n",
       "      <th>11</th>\n",
       "      <td>Ростов-на-Дону</td>\n",
       "      <td>25.0</td>\n",
       "    </tr>\n",
       "    <tr>\n",
       "      <th>12</th>\n",
       "      <td>Самара</td>\n",
       "      <td>26.0</td>\n",
       "    </tr>\n",
       "    <tr>\n",
       "      <th>13</th>\n",
       "      <td>Санкт-Петербург</td>\n",
       "      <td>42.0</td>\n",
       "    </tr>\n",
       "    <tr>\n",
       "      <th>14</th>\n",
       "      <td>Уфа</td>\n",
       "      <td>26.0</td>\n",
       "    </tr>\n",
       "    <tr>\n",
       "      <th>15</th>\n",
       "      <td>Челябинск</td>\n",
       "      <td>22.0</td>\n",
       "    </tr>\n",
       "    <tr>\n",
       "      <th>16</th>\n",
       "      <td>Total</td>\n",
       "      <td>485.0</td>\n",
       "    </tr>\n",
       "  </tbody>\n",
       "</table>\n",
       "</div>"
      ],
      "text/plain": [
       "               name  qty_vacancies\n",
       "0         Волгоград           24.0\n",
       "1           Воронеж           32.0\n",
       "2      Екатеринбург           39.0\n",
       "3            Казань           25.0\n",
       "4         Краснодар           30.0\n",
       "5        Красноярск           23.0\n",
       "6            Москва           54.0\n",
       "7   Нижний Новгород           36.0\n",
       "8       Новосибирск           35.0\n",
       "9              Омск           21.0\n",
       "10            Пермь           25.0\n",
       "11   Ростов-на-Дону           25.0\n",
       "12           Самара           26.0\n",
       "13  Санкт-Петербург           42.0\n",
       "14              Уфа           26.0\n",
       "15        Челябинск           22.0\n",
       "16            Total          485.0"
      ]
     },
     "execution_count": 20,
     "metadata": {},
     "output_type": "execute_result"
    }
   ],
   "source": [
    "# №7 Для компании «Яндекс» выведем список регионов-миллионников , \n",
    "# в которых представлены вакансии компании, вместе с количеством вакансий в этих регионах:\n",
    "\n",
    "import urllib.parse as req\n",
    "\n",
    "path_common = req.urlparse('https://ru.wikipedia.org/wiki/Города-миллионеры_России#Список_городов-миллионеров')\n",
    "url = path_common.scheme + '://' + req.quote(path_common.netloc) +  req.quote(path_common.path) + '#'+ req.quote(path_common.fragment)\n",
    "cities = pd.read_html(url)[1]\n",
    "city = list(cities['Город'])\n",
    "city[13] = 'Воронеж'\n",
    "city = tuple(city)\n",
    "\n",
    "query = f'''WITH TOTAL AS \n",
    "               (SELECT a.name, \n",
    "                       COUNT(v.id) qty_vacancies\n",
    "               FROM vacancies v \n",
    "               JOIN areas a ON v.area_id = a.id\n",
    "               JOIN employers e ON v.employer_id = e.id\n",
    "               WHERE e.name = 'Яндекс' AND a.name in {city}\n",
    "               GROUP BY a.name)\n",
    "\n",
    "               (SELECT a.name, \n",
    "                       COUNT(v.id) qty_vacancies\n",
    "                FROM vacancies v \n",
    "                JOIN areas a ON v.area_id = a.id\n",
    "                JOIN employers e ON v.employer_id = e.id\n",
    "                WHERE e.name = 'Яндекс' AND a.name in {city}\n",
    "                GROUP BY a.name)\n",
    "                \n",
    "                UNION ALL\n",
    "                \n",
    "                (SELECT 'Total', \n",
    "                        SUM(qty_vacancies)\n",
    "                FROM total\n",
    "                ORDER BY 2)\n",
    "             '''\n",
    "df = pd.read_sql_query(query, connection)\n",
    "df\n"
   ]
  },
  {
   "cell_type": "markdown",
   "id": "d0f4bc6b",
   "metadata": {},
   "source": [
    "Мы Провели анализ компании Яндекс, поскольку мы уже знаем, что данная компания опубликовала самое большое количество вакансий среди всех работадателей, но с помощью данного запроса, мы можем также провести и анализ других работадателей. Компания Яндекс наиболее заинтересована в сотрудниках в таких городах как Москва, Санкт-Петербург, Екатеринбург."
   ]
  },
  {
   "cell_type": "markdown",
   "id": "58bb48eb",
   "metadata": {},
   "source": [
    " #                              ПРЕДМЕТНЫЙ АНАЛИЗ"
   ]
  },
  {
   "cell_type": "markdown",
   "id": "263263b4",
   "metadata": {},
   "source": [
    "В данном блоке кода, мы проанализируем какое количество вакансий имеет непосредственное отношение к Data Science и какие требования указавыют работадатели при публикации вакансии:"
   ]
  },
  {
   "cell_type": "code",
   "execution_count": 21,
   "id": "a2021ef2",
   "metadata": {},
   "outputs": [
    {
     "data": {
      "text/html": [
       "<div>\n",
       "<style scoped>\n",
       "    .dataframe tbody tr th:only-of-type {\n",
       "        vertical-align: middle;\n",
       "    }\n",
       "\n",
       "    .dataframe tbody tr th {\n",
       "        vertical-align: top;\n",
       "    }\n",
       "\n",
       "    .dataframe thead th {\n",
       "        text-align: right;\n",
       "    }\n",
       "</style>\n",
       "<table border=\"1\" class=\"dataframe\">\n",
       "  <thead>\n",
       "    <tr style=\"text-align: right;\">\n",
       "      <th></th>\n",
       "      <th>count</th>\n",
       "    </tr>\n",
       "  </thead>\n",
       "  <tbody>\n",
       "    <tr>\n",
       "      <th>0</th>\n",
       "      <td>1771</td>\n",
       "    </tr>\n",
       "  </tbody>\n",
       "</table>\n",
       "</div>"
      ],
      "text/plain": [
       "   count\n",
       "0   1771"
      ]
     },
     "execution_count": 21,
     "metadata": {},
     "output_type": "execute_result"
    }
   ],
   "source": [
    "# №1 Сколько вакансий имеет отношение к дата-саентистам?:\n",
    "query = '''SELECT COUNT(*) \n",
    "           FROM vacancies \n",
    "           WHERE name ilike '%data%' OR name ilike '%данн%' \n",
    "           '''\n",
    "df = pd.read_sql_query(query, connection)\n",
    "df"
   ]
  },
  {
   "cell_type": "markdown",
   "id": "2c64f126",
   "metadata": {},
   "source": [
    "С помощью запроса проведенного выше, мы увидели, что из всех предлогаемых вакансий только 3,5% имеют отношение к сфере работы с данными."
   ]
  },
  {
   "cell_type": "code",
   "execution_count": 22,
   "id": "28fdef31",
   "metadata": {},
   "outputs": [
    {
     "data": {
      "text/html": [
       "<div>\n",
       "<style scoped>\n",
       "    .dataframe tbody tr th:only-of-type {\n",
       "        vertical-align: middle;\n",
       "    }\n",
       "\n",
       "    .dataframe tbody tr th {\n",
       "        vertical-align: top;\n",
       "    }\n",
       "\n",
       "    .dataframe thead th {\n",
       "        text-align: right;\n",
       "    }\n",
       "</style>\n",
       "<table border=\"1\" class=\"dataframe\">\n",
       "  <thead>\n",
       "    <tr style=\"text-align: right;\">\n",
       "      <th></th>\n",
       "      <th>count</th>\n",
       "    </tr>\n",
       "  </thead>\n",
       "  <tbody>\n",
       "    <tr>\n",
       "      <th>0</th>\n",
       "      <td>51</td>\n",
       "    </tr>\n",
       "  </tbody>\n",
       "</table>\n",
       "</div>"
      ],
      "text/plain": [
       "   count\n",
       "0     51"
      ]
     },
     "execution_count": 22,
     "metadata": {},
     "output_type": "execute_result"
    }
   ],
   "source": [
    "# №2 Сколько есть подходящих вакансий для начинающего дата-сайентиста?:\n",
    "query = '''SELECT \n",
    "                 COUNT(*)\n",
    "            FROM vacancies     \n",
    "            WHERE (name ILIKE '%data scientist%' OR\n",
    "                  name ILIKE '%data science%' OR\n",
    "                  name ILIKE '%исследователь данных%' OR\n",
    "                  name ILIKE '%ML%' AND name NOT ILIKE '%HTML%' OR\n",
    "                  name ILIKE '%machine learning%' OR\n",
    "                  name ILIKE '%машинн%обучен%')\n",
    "                  AND\n",
    "                  (name ILIKE '%junior%' OR\n",
    "                  experience = 'Нет опыта' OR\n",
    "                  employment = 'Стажировка')\n",
    "                  '''\n",
    "df = pd.read_sql_query(query, connection)\n",
    "df"
   ]
  },
  {
   "cell_type": "markdown",
   "id": "cfd62387",
   "metadata": {},
   "source": [
    "Таким образом, мы можем сделать удручающий вывод о том, что из всего количества предлогаемых вакансий для Data-Science, только 3% имеет отношение к работникам начального уровня, остальные 97% вакансий требуют наличие оопределенного опыта работы."
   ]
  },
  {
   "cell_type": "code",
   "execution_count": 23,
   "id": "57d92b1b",
   "metadata": {},
   "outputs": [
    {
     "data": {
      "text/html": [
       "<div>\n",
       "<style scoped>\n",
       "    .dataframe tbody tr th:only-of-type {\n",
       "        vertical-align: middle;\n",
       "    }\n",
       "\n",
       "    .dataframe tbody tr th {\n",
       "        vertical-align: top;\n",
       "    }\n",
       "\n",
       "    .dataframe thead th {\n",
       "        text-align: right;\n",
       "    }\n",
       "</style>\n",
       "<table border=\"1\" class=\"dataframe\">\n",
       "  <thead>\n",
       "    <tr style=\"text-align: right;\">\n",
       "      <th></th>\n",
       "      <th>count</th>\n",
       "    </tr>\n",
       "  </thead>\n",
       "  <tbody>\n",
       "    <tr>\n",
       "      <th>0</th>\n",
       "      <td>201</td>\n",
       "    </tr>\n",
       "  </tbody>\n",
       "</table>\n",
       "</div>"
      ],
      "text/plain": [
       "   count\n",
       "0    201"
      ]
     },
     "execution_count": 23,
     "metadata": {},
     "output_type": "execute_result"
    }
   ],
   "source": [
    "# №3 Сколько есть вакансий для DS, в которых в качестве ключевого навыка указан SQL или postgres?:\n",
    "query = '''SELECT\n",
    "                  COUNT(*)\n",
    "            FROM vacancies\n",
    "            WHERE (name ILIKE '%data scientist%' OR\n",
    "                  name ILIKE '%data science%' OR\n",
    "                  name LIKE '%ML%' AND name NOT ILIKE '%HTML%' OR\n",
    "                  name ILIKE '%machine learning%' OR\n",
    "                  name ILIKE '%машинн%обучен%') \n",
    "                  AND \n",
    "                  (key_skills ILIKE '%SQL%' OR \n",
    "                  key_skills ILIKE '%postgres%')\n",
    "            '''\n",
    "df = pd.read_sql_query(query, connection)\n",
    "df"
   ]
  },
  {
   "cell_type": "markdown",
   "id": "c4687177",
   "metadata": {},
   "source": [
    "В случае с SQL, Postgres уже более 11% или 201 из 1771 вакансий требуют владение данными языками программирования при отборе кандидатур на должность связанную с обработкой данных."
   ]
  },
  {
   "cell_type": "code",
   "execution_count": 24,
   "id": "b18ea683",
   "metadata": {},
   "outputs": [
    {
     "data": {
      "text/html": [
       "<div>\n",
       "<style scoped>\n",
       "    .dataframe tbody tr th:only-of-type {\n",
       "        vertical-align: middle;\n",
       "    }\n",
       "\n",
       "    .dataframe tbody tr th {\n",
       "        vertical-align: top;\n",
       "    }\n",
       "\n",
       "    .dataframe thead th {\n",
       "        text-align: right;\n",
       "    }\n",
       "</style>\n",
       "<table border=\"1\" class=\"dataframe\">\n",
       "  <thead>\n",
       "    <tr style=\"text-align: right;\">\n",
       "      <th></th>\n",
       "      <th>count</th>\n",
       "    </tr>\n",
       "  </thead>\n",
       "  <tbody>\n",
       "    <tr>\n",
       "      <th>0</th>\n",
       "      <td>351</td>\n",
       "    </tr>\n",
       "  </tbody>\n",
       "</table>\n",
       "</div>"
      ],
      "text/plain": [
       "   count\n",
       "0    351"
      ]
     },
     "execution_count": 24,
     "metadata": {},
     "output_type": "execute_result"
    }
   ],
   "source": [
    "# №4 Насколько популярен Python в требованиях работодателей к DS?:\n",
    "query = '''SELECT\n",
    "                  COUNT(*)\n",
    "            FROM vacancies\n",
    "            WHERE (name ILIKE '%data scientist%' OR\n",
    "                  name ILIKE '%data science%' OR\n",
    "                  name LIKE '%ML%' AND name NOT ILIKE '%HTML%' OR\n",
    "                  name ILIKE '%machine learning%' OR\n",
    "                  name ILIKE '%машинн%обучен%') \n",
    "                  AND \n",
    "                  (key_skills ILIKE '%python%')\n",
    "            '''\n",
    "df = pd.read_sql_query(query, connection)\n",
    "df"
   ]
  },
  {
   "cell_type": "markdown",
   "id": "2df8f778",
   "metadata": {},
   "source": [
    "Данный язык используются в большинстве проектов, связанных с Machine Learning, Deep Learning, Computer Vision и др. сферах Data Science, но исходя из представленных данных, Python требуется только в 20% случаев или в 351 вакансии из 1771, что неестественно для сферы Data Science. "
   ]
  },
  {
   "cell_type": "code",
   "execution_count": 25,
   "id": "71491dc2",
   "metadata": {},
   "outputs": [
    {
     "data": {
      "text/html": [
       "<div>\n",
       "<style scoped>\n",
       "    .dataframe tbody tr th:only-of-type {\n",
       "        vertical-align: middle;\n",
       "    }\n",
       "\n",
       "    .dataframe tbody tr th {\n",
       "        vertical-align: top;\n",
       "    }\n",
       "\n",
       "    .dataframe thead th {\n",
       "        text-align: right;\n",
       "    }\n",
       "</style>\n",
       "<table border=\"1\" class=\"dataframe\">\n",
       "  <thead>\n",
       "    <tr style=\"text-align: right;\">\n",
       "      <th></th>\n",
       "      <th>avg_ks</th>\n",
       "    </tr>\n",
       "  </thead>\n",
       "  <tbody>\n",
       "    <tr>\n",
       "      <th>0</th>\n",
       "      <td>6.406032</td>\n",
       "    </tr>\n",
       "  </tbody>\n",
       "</table>\n",
       "</div>"
      ],
      "text/plain": [
       "     avg_ks\n",
       "0  6.406032"
      ]
     },
     "execution_count": 25,
     "metadata": {},
     "output_type": "execute_result"
    }
   ],
   "source": [
    "# №5 Сколько ключевых навыков в среднем указывают в вакансиях для DS?:\n",
    "query = '''SELECT\n",
    "                avg(length(key_skills) - length(replace(key_skills, CHR(9), ''))+1) as avg_ks\n",
    "            FROM vacancies\n",
    "            WHERE (name ILIKE '%data scientist%' OR \n",
    "                   name ILIKE '%data science%' OR\n",
    "                   name ILIKE '%исследователь данных%' OR \n",
    "                   name LIKE '%ML%' AND name NOT ILIKE '%HTML%' OR \n",
    "                   name ILIKE '%machine learning%' OR \n",
    "                   name ILIKE '%машинн%обучен%')\n",
    "            '''\n",
    "df = pd.read_sql_query(query, connection)\n",
    "df"
   ]
  },
  {
   "cell_type": "markdown",
   "id": "ab4f1af3",
   "metadata": {},
   "source": [
    "Исходя из результатов данного запроса мы можем наблюдать, что в среднем для каждой вакансии связанной с Data Science, работадатели требуют более 6-ти ключевых навыков программирования, которыми должен владеть потенциальный кандидат."
   ]
  },
  {
   "cell_type": "code",
   "execution_count": 71,
   "id": "bba40dbe",
   "metadata": {},
   "outputs": [
    {
     "data": {
      "text/html": [
       "<div>\n",
       "<style scoped>\n",
       "    .dataframe tbody tr th:only-of-type {\n",
       "        vertical-align: middle;\n",
       "    }\n",
       "\n",
       "    .dataframe tbody tr th {\n",
       "        vertical-align: top;\n",
       "    }\n",
       "\n",
       "    .dataframe thead th {\n",
       "        text-align: right;\n",
       "    }\n",
       "</style>\n",
       "<table border=\"1\" class=\"dataframe\">\n",
       "  <thead>\n",
       "    <tr style=\"text-align: right;\">\n",
       "      <th></th>\n",
       "      <th>experience</th>\n",
       "      <th>sum</th>\n",
       "      <th>round</th>\n",
       "    </tr>\n",
       "  </thead>\n",
       "  <tbody>\n",
       "    <tr>\n",
       "      <th>0</th>\n",
       "      <td>Нет опыта</td>\n",
       "      <td>7</td>\n",
       "      <td>74643.0</td>\n",
       "    </tr>\n",
       "    <tr>\n",
       "      <th>1</th>\n",
       "      <td>От 3 до 6 лет</td>\n",
       "      <td>27</td>\n",
       "      <td>243115.0</td>\n",
       "    </tr>\n",
       "    <tr>\n",
       "      <th>2</th>\n",
       "      <td>От 1 года до 3 лет</td>\n",
       "      <td>28</td>\n",
       "      <td>139675.0</td>\n",
       "    </tr>\n",
       "  </tbody>\n",
       "</table>\n",
       "</div>"
      ],
      "text/plain": [
       "           experience  sum     round\n",
       "0           Нет опыта    7   74643.0\n",
       "1       От 3 до 6 лет   27  243115.0\n",
       "2  От 1 года до 3 лет   28  139675.0"
      ]
     },
     "execution_count": 71,
     "metadata": {},
     "output_type": "execute_result"
    }
   ],
   "source": [
    "# №6 Какую зарплату для DS в среднем указывают для каждого типа требуемого опыта?:\n",
    "query = '''SELECT\n",
    "                experience,\n",
    "                COUNT(id) sum,\n",
    "                round(AVG(COALESCE((salary_from+salary_to)/2, salary_from, salary_to)))\n",
    "            FROM vacancies\n",
    "            WHERE (name ILIKE '%data scientist%' OR \n",
    "                   name ILIKE '%data science%' OR\n",
    "                   name ILIKE '%исследователь данных%' OR \n",
    "                   name LIKE '%ML%' AND name NOT ILIKE '%HTML%' OR \n",
    "                   name ILIKE '%machine learning%' OR \n",
    "                   name ILIKE '%машинн%обучен%')\n",
    "                   AND\n",
    "                   (salary_from IS NOT NULL OR salary_to IS NOT NULL)\n",
    "            GROUP BY experience\n",
    "            ORDER BY sum\n",
    "            '''\n",
    "df = pd.read_sql_query(query, connection)\n",
    "df"
   ]
  },
  {
   "cell_type": "markdown",
   "id": "8761a026",
   "metadata": {},
   "source": [
    "Результат этого запроса нам показывает, что есть прямая взаимосвязь между предполагаемой средней заработной платой работников и требуемым опытом работы. Мы видим, что средняя заработная плата увеличивается пропорционально опыту работы потенциального сотрудника."
   ]
  },
  {
   "cell_type": "code",
   "execution_count": 27,
   "id": "e50ef7bd",
   "metadata": {},
   "outputs": [],
   "source": [
    "# не забываем закрыть соединение после окончания работы\n",
    "connection.close()"
   ]
  },
  {
   "cell_type": "markdown",
   "id": "a0437853",
   "metadata": {},
   "source": [
    "Таким образом, мы провели анализ данных связанных с поиском работы, с помощью SQL-запросов. Из каждого запроса мы можем делать соотвествующие выводы, которые повлияют на дальнейшее обучение моделей машинного обучения. Поэтому SQL является очень важным и востребованным инструментом для сферы анализа и обработки данных."
   ]
  }
 ],
 "metadata": {
  "kernelspec": {
   "display_name": "Python 3 (ipykernel)",
   "language": "python",
   "name": "python3"
  },
  "language_info": {
   "codemirror_mode": {
    "name": "ipython",
    "version": 3
   },
   "file_extension": ".py",
   "mimetype": "text/x-python",
   "name": "python",
   "nbconvert_exporter": "python",
   "pygments_lexer": "ipython3",
   "version": "3.9.7"
  }
 },
 "nbformat": 4,
 "nbformat_minor": 5
}
