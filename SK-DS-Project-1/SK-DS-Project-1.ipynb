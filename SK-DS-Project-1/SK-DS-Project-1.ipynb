{
 "cells": [
  {
   "attachments": {
    "hh_ru_logo.jpg": {
     "image/jpeg": "[encoded data removed]"
    }
   },
   "cell_type": "markdown",
   "id": "186d5525",
   "metadata": {},
   "source": [
    "![hh_ru_logo.jpg](attachment:hh_ru_logo.jpg)"
   ]
  },
  {
   "cell_type": "code",
   "execution_count": 1,
   "id": "bc192b89",
   "metadata": {},
   "outputs": [
    {
     "name": "stdout",
     "output_type": "stream",
     "text": [
      "Requirement already satisfied: plotly in c:\\programdata\\anaconda3\\lib\\site-packages (5.13.0)\n",
      "Requirement already satisfied: tenacity>=6.2.0 in c:\\programdata\\anaconda3\\lib\\site-packages (from plotly) (8.1.0)\n"
     ]
    }
   ],
   "source": [
    "# импортируем нужные нам для работы библиотеки\n",
    "import numpy as np \n",
    "import pandas as pd\n",
    "!pip install plotly\n",
    "import plotly\n",
    "from plotly.subplots import make_subplots\n",
    "import plotly.graph_objects as go  \n",
    "import plotly.express as px"
   ]
  },
  {
   "cell_type": "code",
   "execution_count": 2,
   "id": "6f363553",
   "metadata": {
    "scrolled": true
   },
   "outputs": [
    {
     "data": {
      "text/html": [
       "<div>\n",
       "<style scoped>\n",
       "    .dataframe tbody tr th:only-of-type {\n",
       "        vertical-align: middle;\n",
       "    }\n",
       "\n",
       "    .dataframe tbody tr th {\n",
       "        vertical-align: top;\n",
       "    }\n",
       "\n",
       "    .dataframe thead th {\n",
       "        text-align: right;\n",
       "    }\n",
       "</style>\n",
       "<table border=\"1\" class=\"dataframe\">\n",
       "  <thead>\n",
       "    <tr style=\"text-align: right;\">\n",
       "      <th></th>\n",
       "      <th>Пол, возраст</th>\n",
       "      <th>ЗП</th>\n",
       "      <th>Ищет работу на должность:</th>\n",
       "      <th>Город, переезд, командировки</th>\n",
       "      <th>Занятость</th>\n",
       "      <th>График</th>\n",
       "      <th>Опыт работы</th>\n",
       "      <th>Последнее/нынешнее место работы</th>\n",
       "      <th>Последняя/нынешняя должность</th>\n",
       "      <th>Образование и ВУЗ</th>\n",
       "      <th>Обновление резюме</th>\n",
       "      <th>Авто</th>\n",
       "    </tr>\n",
       "  </thead>\n",
       "  <tbody>\n",
       "    <tr>\n",
       "      <th>0</th>\n",
       "      <td>Мужчина ,  39 лет , родился 27 ноября 1979</td>\n",
       "      <td>29000 руб.</td>\n",
       "      <td>Системный администратор</td>\n",
       "      <td>Советск (Калининградская область) , не готов к...</td>\n",
       "      <td>частичная занятость, проектная работа, полная ...</td>\n",
       "      <td>гибкий график, полный день, сменный график, ва...</td>\n",
       "      <td>Опыт работы 16 лет 10 месяцев  Август 2010 — п...</td>\n",
       "      <td>МАОУ \"СОШ № 1 г.Немана\"</td>\n",
       "      <td>Системный администратор</td>\n",
       "      <td>Неоконченное высшее образование 2000  Балтийск...</td>\n",
       "      <td>16.04.2019 15:59</td>\n",
       "      <td>Имеется собственный автомобиль</td>\n",
       "    </tr>\n",
       "    <tr>\n",
       "      <th>1</th>\n",
       "      <td>Мужчина ,  60 лет , родился 20 марта 1959</td>\n",
       "      <td>40000 руб.</td>\n",
       "      <td>Технический писатель</td>\n",
       "      <td>Королев , не готов к переезду , готов к редким...</td>\n",
       "      <td>частичная занятость, проектная работа, полная ...</td>\n",
       "      <td>гибкий график, полный день, сменный график, уд...</td>\n",
       "      <td>Опыт работы 19 лет 5 месяцев  Январь 2000 — по...</td>\n",
       "      <td>Временный трудовой коллектив</td>\n",
       "      <td>Менеджер проекта, Аналитик, Технический писатель</td>\n",
       "      <td>Высшее образование 1981  Военно-космическая ак...</td>\n",
       "      <td>12.04.2019 08:42</td>\n",
       "      <td>Не указано</td>\n",
       "    </tr>\n",
       "    <tr>\n",
       "      <th>2</th>\n",
       "      <td>Женщина ,  36 лет , родилась 12 августа 1982</td>\n",
       "      <td>20000 руб.</td>\n",
       "      <td>Оператор</td>\n",
       "      <td>Тверь , не готова к переезду , не готова к ком...</td>\n",
       "      <td>полная занятость</td>\n",
       "      <td>полный день</td>\n",
       "      <td>Опыт работы 10 лет 3 месяца  Октябрь 2004 — Де...</td>\n",
       "      <td>ПАО Сбербанк</td>\n",
       "      <td>Кассир-операционист</td>\n",
       "      <td>Среднее специальное образование 2002 Профессио...</td>\n",
       "      <td>16.04.2019 08:35</td>\n",
       "      <td>Не указано</td>\n",
       "    </tr>\n",
       "    <tr>\n",
       "      <th>3</th>\n",
       "      <td>Мужчина ,  38 лет , родился 25 июня 1980</td>\n",
       "      <td>100000 руб.</td>\n",
       "      <td>Веб-разработчик (HTML / CSS / JS / PHP / базы ...</td>\n",
       "      <td>Саратов , не готов к переезду , готов к редким...</td>\n",
       "      <td>частичная занятость, проектная работа, полная ...</td>\n",
       "      <td>гибкий график, удаленная работа</td>\n",
       "      <td>Опыт работы 18 лет 9 месяцев  Август 2017 — Ап...</td>\n",
       "      <td>OpenSoft</td>\n",
       "      <td>Инженер-программист</td>\n",
       "      <td>Высшее образование 2002  Саратовский государст...</td>\n",
       "      <td>08.04.2019 14:23</td>\n",
       "      <td>Не указано</td>\n",
       "    </tr>\n",
       "    <tr>\n",
       "      <th>4</th>\n",
       "      <td>Женщина ,  26 лет , родилась 3 марта 1993</td>\n",
       "      <td>140000 руб.</td>\n",
       "      <td>Региональный менеджер по продажам</td>\n",
       "      <td>Москва , не готова к переезду , готова к коман...</td>\n",
       "      <td>полная занятость</td>\n",
       "      <td>полный день</td>\n",
       "      <td>Опыт работы 5 лет 7 месяцев  Региональный мене...</td>\n",
       "      <td>Мармелад</td>\n",
       "      <td>Менеджер по продажам</td>\n",
       "      <td>Высшее образование 2015 Кгу Психологии и педаг...</td>\n",
       "      <td>22.04.2019 10:32</td>\n",
       "      <td>Не указано</td>\n",
       "    </tr>\n",
       "  </tbody>\n",
       "</table>\n",
       "</div>"
      ],
      "text/plain": [
       "                                   Пол, возраст           ЗП  \\\n",
       "0    Мужчина ,  39 лет , родился 27 ноября 1979   29000 руб.   \n",
       "1     Мужчина ,  60 лет , родился 20 марта 1959   40000 руб.   \n",
       "2  Женщина ,  36 лет , родилась 12 августа 1982   20000 руб.   \n",
       "3      Мужчина ,  38 лет , родился 25 июня 1980  100000 руб.   \n",
       "4     Женщина ,  26 лет , родилась 3 марта 1993  140000 руб.   \n",
       "\n",
       "                           Ищет работу на должность:  \\\n",
       "0                            Системный администратор   \n",
       "1                               Технический писатель   \n",
       "2                                           Оператор   \n",
       "3  Веб-разработчик (HTML / CSS / JS / PHP / базы ...   \n",
       "4                  Региональный менеджер по продажам   \n",
       "\n",
       "                        Город, переезд, командировки  \\\n",
       "0  Советск (Калининградская область) , не готов к...   \n",
       "1  Королев , не готов к переезду , готов к редким...   \n",
       "2  Тверь , не готова к переезду , не готова к ком...   \n",
       "3  Саратов , не готов к переезду , готов к редким...   \n",
       "4  Москва , не готова к переезду , готова к коман...   \n",
       "\n",
       "                                           Занятость  \\\n",
       "0  частичная занятость, проектная работа, полная ...   \n",
       "1  частичная занятость, проектная работа, полная ...   \n",
       "2                                   полная занятость   \n",
       "3  частичная занятость, проектная работа, полная ...   \n",
       "4                                   полная занятость   \n",
       "\n",
       "                                              График  \\\n",
       "0  гибкий график, полный день, сменный график, ва...   \n",
       "1  гибкий график, полный день, сменный график, уд...   \n",
       "2                                        полный день   \n",
       "3                    гибкий график, удаленная работа   \n",
       "4                                        полный день   \n",
       "\n",
       "                                         Опыт работы  \\\n",
       "0  Опыт работы 16 лет 10 месяцев  Август 2010 — п...   \n",
       "1  Опыт работы 19 лет 5 месяцев  Январь 2000 — по...   \n",
       "2  Опыт работы 10 лет 3 месяца  Октябрь 2004 — Де...   \n",
       "3  Опыт работы 18 лет 9 месяцев  Август 2017 — Ап...   \n",
       "4  Опыт работы 5 лет 7 месяцев  Региональный мене...   \n",
       "\n",
       "  Последнее/нынешнее место работы  \\\n",
       "0         МАОУ \"СОШ № 1 г.Немана\"   \n",
       "1    Временный трудовой коллектив   \n",
       "2                    ПАО Сбербанк   \n",
       "3                        OpenSoft   \n",
       "4                        Мармелад   \n",
       "\n",
       "                       Последняя/нынешняя должность  \\\n",
       "0                           Системный администратор   \n",
       "1  Менеджер проекта, Аналитик, Технический писатель   \n",
       "2                               Кассир-операционист   \n",
       "3                               Инженер-программист   \n",
       "4                              Менеджер по продажам   \n",
       "\n",
       "                                   Образование и ВУЗ Обновление резюме  \\\n",
       "0  Неоконченное высшее образование 2000  Балтийск...  16.04.2019 15:59   \n",
       "1  Высшее образование 1981  Военно-космическая ак...  12.04.2019 08:42   \n",
       "2  Среднее специальное образование 2002 Профессио...  16.04.2019 08:35   \n",
       "3  Высшее образование 2002  Саратовский государст...  08.04.2019 14:23   \n",
       "4  Высшее образование 2015 Кгу Психологии и педаг...  22.04.2019 10:32   \n",
       "\n",
       "                             Авто  \n",
       "0  Имеется собственный автомобиль  \n",
       "1                      Не указано  \n",
       "2                      Не указано  \n",
       "3                      Не указано  \n",
       "4                      Не указано  "
      ]
     },
     "execution_count": 2,
     "metadata": {},
     "output_type": "execute_result"
    }
   ],
   "source": [
    "# Считываем файл, проверяем, что наши данные не повреждены\n",
    "hh_data = pd.read_csv('C:\\\\Users\\\\Admin\\\\Desktop\\\\DataFrames\\\\hh_data.csv', delimiter=';')\n",
    "hh_data.head()"
   ]
  },
  {
   "cell_type": "markdown",
   "id": "36c143e4",
   "metadata": {},
   "source": [
    "# ИССЛЕДОВАНИЕ И ПРЕОБРАЗОВАНИЕ ДАННЫХ"
   ]
  },
  {
   "cell_type": "code",
   "execution_count": 3,
   "id": "2bf90718",
   "metadata": {},
   "outputs": [
    {
     "data": {
      "text/plain": [
       "(44744, 12)"
      ]
     },
     "execution_count": 3,
     "metadata": {},
     "output_type": "execute_result"
    }
   ],
   "source": [
    "#Размерность данных\n",
    "hh_data.shape"
   ]
  },
  {
   "cell_type": "code",
   "execution_count": 4,
   "id": "cbe78764",
   "metadata": {},
   "outputs": [
    {
     "name": "stdout",
     "output_type": "stream",
     "text": [
      "<class 'pandas.core.frame.DataFrame'>\n",
      "RangeIndex: 44744 entries, 0 to 44743\n",
      "Data columns (total 12 columns):\n",
      " #   Column                           Non-Null Count  Dtype \n",
      "---  ------                           --------------  ----- \n",
      " 0   Пол, возраст                     44744 non-null  object\n",
      " 1   ЗП                               44744 non-null  object\n",
      " 2   Ищет работу на должность:        44744 non-null  object\n",
      " 3   Город, переезд, командировки     44744 non-null  object\n",
      " 4   Занятость                        44744 non-null  object\n",
      " 5   График                           44744 non-null  object\n",
      " 6   Опыт работы                      44576 non-null  object\n",
      " 7   Последнее/нынешнее место работы  44743 non-null  object\n",
      " 8   Последняя/нынешняя должность     44742 non-null  object\n",
      " 9   Образование и ВУЗ                44744 non-null  object\n",
      " 10  Обновление резюме                44744 non-null  object\n",
      " 11  Авто                             44744 non-null  object\n",
      "dtypes: object(12)\n",
      "memory usage: 4.1+ MB\n"
     ]
    }
   ],
   "source": [
    "#Получение общей информации о столбцах и строках датафрейма\n",
    "hh_data.info()"
   ]
  },
  {
   "cell_type": "markdown",
   "id": "f395d263",
   "metadata": {},
   "source": [
    "Стоит отметить, что в данном датафрейме все признаки данных имеют тип object, для корректной работы модели машинного обучения в последующем, нам предстоит во многих признаках поменять тип данных. Также мы уже видим, что в одном столбце сосредоточена информация о нескольких признаках, чего быть не должно, что мы должны исправить создав новые признаки. "
   ]
  },
  {
   "cell_type": "code",
   "execution_count": 5,
   "id": "82245f61",
   "metadata": {},
   "outputs": [],
   "source": [
    "hh_data['Авто'] = hh_data['Авто'].apply(lambda x: np.nan if x == 'Не указано' else x) "
   ]
  },
  {
   "cell_type": "code",
   "execution_count": 6,
   "id": "c587500b",
   "metadata": {},
   "outputs": [
    {
     "data": {
      "text/plain": [
       "Авто                               72.116932\n",
       "Опыт работы                         0.375469\n",
       "Последняя/нынешняя должность        0.004470\n",
       "Последнее/нынешнее место работы     0.002235\n",
       "dtype: float64"
      ]
     },
     "metadata": {},
     "output_type": "display_data"
    }
   ],
   "source": [
    "features_null_percent = hh_data.isnull().mean() * 100\n",
    "features_with_null = features_null_percent[features_null_percent>0].sort_values(ascending=False)\n",
    "display(features_with_null)"
   ]
  },
  {
   "cell_type": "markdown",
   "id": "ebbf5664",
   "metadata": {},
   "source": [
    "Понаблюдав за датафремом, можно сразу сделать вывод, что столбец \"Авто\" не несет никакой полезной информации, поэтому будет логичнее от него сразу избавиться. Мы можем также наблюдать незначительные пропуски в трех столбцах указанных выше."
   ]
  },
  {
   "cell_type": "code",
   "execution_count": 7,
   "id": "40132cf8",
   "metadata": {},
   "outputs": [],
   "source": [
    "# Мы специально избавляемся от ненужного столбца, поскольку, при обучении модели он не принисет нам никакой пользы, \n",
    "# а только наоборот может внести неточность в ее предсказания\n",
    "hh_data = hh_data.drop('Авто', axis=1)"
   ]
  },
  {
   "cell_type": "code",
   "execution_count": 8,
   "id": "fa7cd15a",
   "metadata": {},
   "outputs": [
    {
     "data": {
      "text/plain": [
       "Системный администратор                                                  0.069261\n",
       "Инженер                                                                  0.021589\n",
       "Аналитик                                                                 0.018081\n",
       "Менеджер проектов                                                        0.016650\n",
       "Руководитель проекта                                                     0.016047\n",
       "                                                                           ...   \n",
       "Системный администратор Linux, DevOps, Разработчик Golang                0.000022\n",
       "Инженер КИПиА,инженер АСУТП ,видеоинженер                                0.000022\n",
       "SEO-специалист | Специалист по интернет-рекламе | Интернет-маркетолог    0.000022\n",
       "Специалист технических систем безопастности                              0.000022\n",
       "Аналитик данных, Математик                                               0.000022\n",
       "Name: Ищет работу на должность:, Length: 14929, dtype: float64"
      ]
     },
     "execution_count": 8,
     "metadata": {},
     "output_type": "execute_result"
    }
   ],
   "source": [
    "# Здесь мы наблюдаем топ-5 самых популярных должностей, которые ищут люди на сайте HH.RU\n",
    "hh_data['Ищет работу на должность:'].value_counts(normalize=True)"
   ]
  },
  {
   "cell_type": "code",
   "execution_count": 9,
   "id": "6e68f186",
   "metadata": {},
   "outputs": [],
   "source": [
    "# Функция преобразования признака образования\n",
    "def get_education(arg):\n",
    "    arg = ' '.join(arg.split(' ')[0:3])\n",
    "    if 'Высшее' in arg:\n",
    "        return 'Высшее'\n",
    "    elif 'Неоконченное высшее' in arg:\n",
    "        return 'Неоконченное высшее'\n",
    "    elif 'Среднее специальное' in arg:\n",
    "        return 'Среднее специальное'\n",
    "    elif 'Среднее образование' in arg:\n",
    "        return 'Среднее'\n",
    "\n",
    "hh_data['Образование'] = hh_data['Образование и ВУЗ'].apply(get_education)\n",
    "hh_data = hh_data.drop('Образование и ВУЗ', axis=1)"
   ]
  },
  {
   "cell_type": "markdown",
   "id": "83d0a206",
   "metadata": {},
   "source": [
    "Таким образом, мы избавились от лишней нагруженности ненужной информации в признаке \"Образование и ВУЗ\" и удалили его, оставив только уровень образования. Это поможет нам в дальнейшей работе по выялению зависимостей в данных, построению графиков и обучению модели "
   ]
  },
  {
   "cell_type": "code",
   "execution_count": 10,
   "id": "455046b0",
   "metadata": {},
   "outputs": [],
   "source": [
    "# Функция преобразования признака пола.\n",
    "def get_sex(arg):\n",
    "    arg = ' '.join(arg.split(' ')[0:2])\n",
    "    if 'Мужчина' in arg:\n",
    "        return 'М'\n",
    "    else:\n",
    "        return 'Ж'\n",
    "# Функция преобразования признака возраста.\n",
    "def get_age(arg):\n",
    "    keywords = ['год', 'года', 'лет']\n",
    "    arg = ' '.join(arg.split(',')[1:2])\n",
    "    for i in keywords:\n",
    "        if i in arg:\n",
    "            return arg[2:5]"
   ]
  },
  {
   "cell_type": "code",
   "execution_count": 11,
   "id": "0da15324",
   "metadata": {
    "scrolled": true
   },
   "outputs": [
    {
     "data": {
      "text/html": [
       "<div>\n",
       "<style scoped>\n",
       "    .dataframe tbody tr th:only-of-type {\n",
       "        vertical-align: middle;\n",
       "    }\n",
       "\n",
       "    .dataframe tbody tr th {\n",
       "        vertical-align: top;\n",
       "    }\n",
       "\n",
       "    .dataframe thead th {\n",
       "        text-align: right;\n",
       "    }\n",
       "</style>\n",
       "<table border=\"1\" class=\"dataframe\">\n",
       "  <thead>\n",
       "    <tr style=\"text-align: right;\">\n",
       "      <th></th>\n",
       "      <th>ЗП</th>\n",
       "      <th>Ищет работу на должность:</th>\n",
       "      <th>Город, переезд, командировки</th>\n",
       "      <th>Занятость</th>\n",
       "      <th>График</th>\n",
       "      <th>Опыт работы</th>\n",
       "      <th>Последнее/нынешнее место работы</th>\n",
       "      <th>Последняя/нынешняя должность</th>\n",
       "      <th>Обновление резюме</th>\n",
       "      <th>Образование</th>\n",
       "      <th>Пол</th>\n",
       "      <th>Возраст</th>\n",
       "    </tr>\n",
       "  </thead>\n",
       "  <tbody>\n",
       "    <tr>\n",
       "      <th>0</th>\n",
       "      <td>29000 руб.</td>\n",
       "      <td>Системный администратор</td>\n",
       "      <td>Советск (Калининградская область) , не готов к...</td>\n",
       "      <td>частичная занятость, проектная работа, полная ...</td>\n",
       "      <td>гибкий график, полный день, сменный график, ва...</td>\n",
       "      <td>Опыт работы 16 лет 10 месяцев  Август 2010 — п...</td>\n",
       "      <td>МАОУ \"СОШ № 1 г.Немана\"</td>\n",
       "      <td>Системный администратор</td>\n",
       "      <td>16.04.2019 15:59</td>\n",
       "      <td>Неоконченное высшее</td>\n",
       "      <td>М</td>\n",
       "      <td>39</td>\n",
       "    </tr>\n",
       "    <tr>\n",
       "      <th>1</th>\n",
       "      <td>40000 руб.</td>\n",
       "      <td>Технический писатель</td>\n",
       "      <td>Королев , не готов к переезду , готов к редким...</td>\n",
       "      <td>частичная занятость, проектная работа, полная ...</td>\n",
       "      <td>гибкий график, полный день, сменный график, уд...</td>\n",
       "      <td>Опыт работы 19 лет 5 месяцев  Январь 2000 — по...</td>\n",
       "      <td>Временный трудовой коллектив</td>\n",
       "      <td>Менеджер проекта, Аналитик, Технический писатель</td>\n",
       "      <td>12.04.2019 08:42</td>\n",
       "      <td>Высшее</td>\n",
       "      <td>М</td>\n",
       "      <td>60</td>\n",
       "    </tr>\n",
       "    <tr>\n",
       "      <th>2</th>\n",
       "      <td>20000 руб.</td>\n",
       "      <td>Оператор</td>\n",
       "      <td>Тверь , не готова к переезду , не готова к ком...</td>\n",
       "      <td>полная занятость</td>\n",
       "      <td>полный день</td>\n",
       "      <td>Опыт работы 10 лет 3 месяца  Октябрь 2004 — Де...</td>\n",
       "      <td>ПАО Сбербанк</td>\n",
       "      <td>Кассир-операционист</td>\n",
       "      <td>16.04.2019 08:35</td>\n",
       "      <td>Среднее специальное</td>\n",
       "      <td>Ж</td>\n",
       "      <td>36</td>\n",
       "    </tr>\n",
       "    <tr>\n",
       "      <th>3</th>\n",
       "      <td>100000 руб.</td>\n",
       "      <td>Веб-разработчик (HTML / CSS / JS / PHP / базы ...</td>\n",
       "      <td>Саратов , не готов к переезду , готов к редким...</td>\n",
       "      <td>частичная занятость, проектная работа, полная ...</td>\n",
       "      <td>гибкий график, удаленная работа</td>\n",
       "      <td>Опыт работы 18 лет 9 месяцев  Август 2017 — Ап...</td>\n",
       "      <td>OpenSoft</td>\n",
       "      <td>Инженер-программист</td>\n",
       "      <td>08.04.2019 14:23</td>\n",
       "      <td>Высшее</td>\n",
       "      <td>М</td>\n",
       "      <td>38</td>\n",
       "    </tr>\n",
       "    <tr>\n",
       "      <th>4</th>\n",
       "      <td>140000 руб.</td>\n",
       "      <td>Региональный менеджер по продажам</td>\n",
       "      <td>Москва , не готова к переезду , готова к коман...</td>\n",
       "      <td>полная занятость</td>\n",
       "      <td>полный день</td>\n",
       "      <td>Опыт работы 5 лет 7 месяцев  Региональный мене...</td>\n",
       "      <td>Мармелад</td>\n",
       "      <td>Менеджер по продажам</td>\n",
       "      <td>22.04.2019 10:32</td>\n",
       "      <td>Высшее</td>\n",
       "      <td>Ж</td>\n",
       "      <td>26</td>\n",
       "    </tr>\n",
       "  </tbody>\n",
       "</table>\n",
       "</div>"
      ],
      "text/plain": [
       "            ЗП                          Ищет работу на должность:  \\\n",
       "0   29000 руб.                            Системный администратор   \n",
       "1   40000 руб.                               Технический писатель   \n",
       "2   20000 руб.                                           Оператор   \n",
       "3  100000 руб.  Веб-разработчик (HTML / CSS / JS / PHP / базы ...   \n",
       "4  140000 руб.                  Региональный менеджер по продажам   \n",
       "\n",
       "                        Город, переезд, командировки  \\\n",
       "0  Советск (Калининградская область) , не готов к...   \n",
       "1  Королев , не готов к переезду , готов к редким...   \n",
       "2  Тверь , не готова к переезду , не готова к ком...   \n",
       "3  Саратов , не готов к переезду , готов к редким...   \n",
       "4  Москва , не готова к переезду , готова к коман...   \n",
       "\n",
       "                                           Занятость  \\\n",
       "0  частичная занятость, проектная работа, полная ...   \n",
       "1  частичная занятость, проектная работа, полная ...   \n",
       "2                                   полная занятость   \n",
       "3  частичная занятость, проектная работа, полная ...   \n",
       "4                                   полная занятость   \n",
       "\n",
       "                                              График  \\\n",
       "0  гибкий график, полный день, сменный график, ва...   \n",
       "1  гибкий график, полный день, сменный график, уд...   \n",
       "2                                        полный день   \n",
       "3                    гибкий график, удаленная работа   \n",
       "4                                        полный день   \n",
       "\n",
       "                                         Опыт работы  \\\n",
       "0  Опыт работы 16 лет 10 месяцев  Август 2010 — п...   \n",
       "1  Опыт работы 19 лет 5 месяцев  Январь 2000 — по...   \n",
       "2  Опыт работы 10 лет 3 месяца  Октябрь 2004 — Де...   \n",
       "3  Опыт работы 18 лет 9 месяцев  Август 2017 — Ап...   \n",
       "4  Опыт работы 5 лет 7 месяцев  Региональный мене...   \n",
       "\n",
       "  Последнее/нынешнее место работы  \\\n",
       "0         МАОУ \"СОШ № 1 г.Немана\"   \n",
       "1    Временный трудовой коллектив   \n",
       "2                    ПАО Сбербанк   \n",
       "3                        OpenSoft   \n",
       "4                        Мармелад   \n",
       "\n",
       "                       Последняя/нынешняя должность Обновление резюме  \\\n",
       "0                           Системный администратор  16.04.2019 15:59   \n",
       "1  Менеджер проекта, Аналитик, Технический писатель  12.04.2019 08:42   \n",
       "2                               Кассир-операционист  16.04.2019 08:35   \n",
       "3                               Инженер-программист  08.04.2019 14:23   \n",
       "4                              Менеджер по продажам  22.04.2019 10:32   \n",
       "\n",
       "           Образование Пол  Возраст  \n",
       "0  Неоконченное высшее   М       39  \n",
       "1               Высшее   М       60  \n",
       "2  Среднее специальное   Ж       36  \n",
       "3               Высшее   М       38  \n",
       "4               Высшее   Ж       26  "
      ]
     },
     "execution_count": 11,
     "metadata": {},
     "output_type": "execute_result"
    }
   ],
   "source": [
    "hh_data['Пол'] = hh_data['Пол, возраст'].apply(get_sex)\n",
    "hh_data['Возраст'] = hh_data['Пол, возраст'].apply(get_age)\n",
    "hh_data['Возраст'] = hh_data['Возраст'].astype('int8')\n",
    "hh_data = hh_data.drop('Пол, возраст', axis=1)\n",
    "hh_data.head()"
   ]
  },
  {
   "cell_type": "markdown",
   "id": "9ad4ba2c",
   "metadata": {},
   "source": [
    "Благодаря двум функциям, представленным выше, мы смогли сделать наш датафрейм более гибким, как и с признаком \"Образование и ВУЗ\", мы избавились от лишней информации и того, что один столбец содержал объем информации, который должен быть распределен  по нескольким столбцам, что мы и сделали создав новые признаки - 'Пол' и 'Возраст'. "
   ]
  },
  {
   "cell_type": "code",
   "execution_count": 12,
   "id": "e05077ab",
   "metadata": {},
   "outputs": [],
   "source": [
    "hh_data['Возраст'].mean()\n",
    "hh_data['Пол'].value_counts(normalize=True)\n",
    "hh_data['Опыт работы'] = hh_data['Опыт работы'].apply(lambda x: np.nan if x == 'Не указано' else x)"
   ]
  },
  {
   "cell_type": "code",
   "execution_count": 13,
   "id": "df8eab84",
   "metadata": {},
   "outputs": [
    {
     "data": {
      "text/plain": [
       "100.0"
      ]
     },
     "execution_count": 13,
     "metadata": {},
     "output_type": "execute_result"
    }
   ],
   "source": [
    "#Преобразуем признак «Опыт работы».\n",
    "def get_work_experience(arg):\n",
    "    if arg is np.nan:\n",
    "        return None\n",
    "    month_keywords = ['месяц', 'месяцев', 'месяца']\n",
    "    year_keywords = ['год', 'лет', 'года']\n",
    "    args_splited = arg.split(' ')[:7]\n",
    "    month = 0\n",
    "    year = 0\n",
    "    for index, item in enumerate(args_splited):\n",
    "        if item in month_keywords:\n",
    "            month = int(args_splited[index-1])\n",
    "        if item in year_keywords:\n",
    "            year = int(args_splited[index-1])\n",
    "    return int(year*12 + month)\n",
    "\n",
    "hh_data['Опыт работы кандидата'] = hh_data['Опыт работы'].apply(get_work_experience)\n",
    "hh_data = hh_data.drop('Опыт работы', axis=1)\n",
    "hh_data['Опыт работы кандидата'].median()"
   ]
  },
  {
   "cell_type": "code",
   "execution_count": 14,
   "id": "7d343c78",
   "metadata": {},
   "outputs": [
    {
     "data": {
      "text/plain": [
       "Москва              0.371469\n",
       "Другие              0.353723\n",
       "Город-миллионник    0.164469\n",
       "Санкт-Петербург     0.110339\n",
       "Name: Город, dtype: float64"
      ]
     },
     "execution_count": 14,
     "metadata": {},
     "output_type": "execute_result"
    }
   ],
   "source": [
    "# Преобразуем признак «Город, переезд, командировки» с помощью функций, \n",
    "# представленных ниже и затем удалим его из таблицы\n",
    "\n",
    "def get_city(arg):\n",
    "    million_cities = ['Новосибирск', 'Екатеринбург', 'Нижний Новгород', \n",
    "                      'Казань', 'Челябинск', 'Омск', 'Самара', 'Ростов-на-Дону', \n",
    "                      'Уфа', 'Красноярск', 'Пермь', 'Воронеж', 'Волгоград' ]\n",
    "    arg = ' '.join(arg.split(',')[0:1])\n",
    "    for i in million_cities:\n",
    "        if i in arg:\n",
    "            return 'Город-миллионник'\n",
    "    if 'Москва' in arg:\n",
    "        return 'Москва'\n",
    "    elif 'Санкт-Петербург' in arg:\n",
    "        return 'Санкт-Петербург'\n",
    "    else:\n",
    "        return 'Другие'\n",
    "\n",
    "def get_relocate(arg):\n",
    "    arg = arg.split(' , ')\n",
    "    if ('не готов к переезду' in arg[1:3]) or ('не готова к переезду' in arg[1:3]): \n",
    "        return False\n",
    "    else: \n",
    "        return True\n",
    "\n",
    "def get_business_trip(arg):\n",
    "    arg = arg.split(' , ')\n",
    "    if ('не готов к командировкам' in arg[-1]) or ('не готова к командировкам' in arg[-1]): \n",
    "        return False\n",
    "    else: \n",
    "        return True\n",
    "\n",
    "hh_data['Город'] = hh_data['Город, переезд, командировки'].apply(get_city)\n",
    "hh_data['Готовность к переезду'] = hh_data['Город, переезд, командировки'].apply(get_relocate)\n",
    "hh_data['Готовность к командировкам'] = hh_data['Город, переезд, командировки'].apply(get_business_trip)\n",
    "hh_data['Город'].value_counts(normalize=True)"
   ]
  },
  {
   "cell_type": "code",
   "execution_count": 15,
   "id": "5b4784b8",
   "metadata": {},
   "outputs": [],
   "source": [
    "hh_data[['Готовность к переезду', 'Готовность к командировкам']].value_counts(normalize=True)\n",
    "hh_data = hh_data.drop('Город, переезд, командировки', axis=1)"
   ]
  },
  {
   "cell_type": "markdown",
   "id": "a6f63295",
   "metadata": {},
   "source": [
    "С помощью преобразований, представленных выше, мы добавили три признака в датафрейм и смогли избавиться от огромной нагрузки информации, которая была до этого сосредоточена в одном признаке. Плюс ко всему мы получили столбцы с уже с другим типом данных (булевым). Это позволит проще работать при визуализации и обучении модели. Но впереди у нас есть еще такие признаки, которые содержат в себе объем информации, который можно разделить на несколько столбцов."
   ]
  },
  {
   "cell_type": "code",
   "execution_count": 16,
   "id": "a7e67a56",
   "metadata": {},
   "outputs": [
    {
     "data": {
      "text/plain": [
       "проектная работа  волонтерство\n",
       "False             False           36626\n",
       "True              False            7632\n",
       "                  True              436\n",
       "False             True               50\n",
       "dtype: int64"
      ]
     },
     "execution_count": 16,
     "metadata": {},
     "output_type": "execute_result"
    }
   ],
   "source": [
    "# Преобразование столбца \"Занятость\"\n",
    "\n",
    "employment = []\n",
    "for i in hh_data['Занятость']:\n",
    "    time_at_work = i.split(', ')\n",
    "    for e in time_at_work:\n",
    "        if e not in employment:\n",
    "            employment.append(e)\n",
    "\n",
    "for j in employment:\n",
    "    hh_data[j] = hh_data['Занятость'].apply(lambda x: j in x)\n",
    "\n",
    "hh_data[['проектная работа', 'волонтерство']].value_counts()"
   ]
  },
  {
   "cell_type": "code",
   "execution_count": 17,
   "id": "efeb5daf",
   "metadata": {},
   "outputs": [
    {
     "data": {
      "text/plain": [
       "вахтовый метод  гибкий график\n",
       "False           False            28387\n",
       "                True             13273\n",
       "True            True              2311\n",
       "                False              773\n",
       "dtype: int64"
      ]
     },
     "execution_count": 17,
     "metadata": {},
     "output_type": "execute_result"
    }
   ],
   "source": [
    "# Преобразование столбца \"График\"\n",
    "\n",
    "charts = []\n",
    "for i in hh_data['График']:\n",
    "    schedule = i.split(', ')\n",
    "    for e in schedule:\n",
    "        if e not in charts:\n",
    "            charts.append(e)\n",
    "\n",
    "for chart in charts:\n",
    "    hh_data[chart] = hh_data['График'].apply(lambda x: chart in x)\n",
    "\n",
    "hh_data[['вахтовый метод', 'гибкий график']].value_counts()"
   ]
  },
  {
   "cell_type": "code",
   "execution_count": 18,
   "id": "34bf62cf",
   "metadata": {},
   "outputs": [],
   "source": [
    "hh_data = hh_data.drop(['Занятость', 'График'], axis=1)"
   ]
  },
  {
   "cell_type": "markdown",
   "id": "8ccc9ae3",
   "metadata": {},
   "source": [
    "С помощью алгоритмов, представленных выше, мы преобразовали признаки \"График\" и \"Занятость. Мы могли бы реализовать этот алгоритм также как и это было с признаком \"Город, готовность к переезду, готовность к командировкам\", но в таком случае у нас бы получился бы очень громоздкий код, который выглядел бы не очень эстетично. Куда более лаконичным в данном случае будет воспользоваться вложенными циклами, которые добвляют уникальные ответы в отдельный список, который в дальнейшем будет названиями столбцов-мигалок."
   ]
  },
  {
   "cell_type": "code",
   "execution_count": null,
   "id": "8f786293",
   "metadata": {},
   "outputs": [],
   "source": [
    "# Функция реализации признака заработной платы «ЗП»\n",
    "\n",
    "exchange_rates = pd.read_csv('C:\\\\Users\\\\Admin\\\\Desktop\\\\DataFrames\\\\ExchangeRates.csv', sep=',')\n",
    "currency= {\n",
    "    'грн': 'UAH',\n",
    "    'EUR':'EUR',\n",
    "    'USD': 'USD',\n",
    "    'белруб': 'BYN',\n",
    "    'KGS': 'KGS',\n",
    "    'KZT': 'KZT',\n",
    "    'сум': 'UZS',\n",
    "    'AZN': 'AZN'\n",
    "}\n",
    "\n",
    "hh_data['Обновление резюме'] = pd.to_datetime(hh_data['Обновление резюме'], dayfirst=True)\n",
    "hh_data['Обновление резюме'] = hh_data['Обновление резюме'].dt.floor(\"D\")\n",
    "exchange_rates['date'] = pd.to_datetime(exchange_rates['date'], dayfirst=True)\n",
    "\n",
    "\n",
    "def get_currency(arg):\n",
    "    current_currency = arg.split(' ')[1]\n",
    "    if current_currency in currency: \n",
    "        return currency[current_currency]\n",
    "    return 'RUB'\n",
    "\n",
    "def get_salary(arg):\n",
    "    return int(arg.split(' ')[0])"
   ]
  },
  {
   "cell_type": "code",
   "execution_count": null,
   "id": "74f36161",
   "metadata": {},
   "outputs": [],
   "source": [
    "hh_data['Валюта'] = hh_data['ЗП'].apply(get_currency)\n",
    "hh_data['Объем зарплаты'] = hh_data['ЗП'].apply(get_salary)\n",
    "hh_data = hh_data.merge(exchange_rates, how='left', left_on=['Обновление резюме', 'Валюта'], \n",
    "                  right_on=['date', 'currency']).drop(['date', 'currency'], axis=1)\n",
    "\n",
    "hh_data['close'] = hh_data['close'].fillna(1)\n",
    "hh_data['proportion'] = hh_data['proportion'].fillna(1)\n",
    "hh_data['ЗП (руб)'] = (hh_data['Объем зарплаты'] * hh_data['close'] / hh_data['proportion'])\n",
    "hh_data = hh_data.drop(['Валюта', 'Объем зарплаты', 'close', 'proportion', 'ЗП', 'per', 'time', 'vol'], axis=1)"
   ]
  },
  {
   "cell_type": "code",
   "execution_count": null,
   "id": "86be3618",
   "metadata": {},
   "outputs": [],
   "source": [
    "hh_data.head()"
   ]
  },
  {
   "cell_type": "markdown",
   "id": "bc21af86",
   "metadata": {},
   "source": [
    "# ИССЛЕДОВАНИЕ ЗАВИСИМОСТЕЙ В ДАННЫХ (EDA)"
   ]
  },
  {
   "cell_type": "code",
   "execution_count": null,
   "id": "30af59b3",
   "metadata": {},
   "outputs": [],
   "source": [
    "fig = make_subplots(rows=1, cols=2)\n",
    "\n",
    "fig.add_trace(go.Histogram(x=hh_data['Возраст']),\n",
    "              row=1, col=1)\n",
    "\n",
    "fig.update_xaxes(title_text=\"Age\", row=1, col=1)\n",
    "\n",
    "fig.add_trace(go.Box(y=hh_data['Возраст']),\n",
    "    row=1, col=2)\n",
    "\n",
    "fig.update_yaxes(title_text=\"Age\", row=1, col=2)\n",
    "\n",
    "fig.update_layout(height=600, width=900, title_text=\"Распределение возраста кандидатов\")\n",
    "fig.show()\n",
    "fig.write_html(\"C:\\\\Users\\\\Admin\\\\Desktop\\\\SkillFactory\\\\Plotly\\\\Age.html\")"
   ]
  },
  {
   "cell_type": "markdown",
   "id": "5499ab13",
   "metadata": {},
   "source": [
    "Графики сразу дают нам информацию о модальном значении признака, которое равно 30. На коробчатой диаграмме ярко видны аномалии, значения которых равн 100, 77 и 76. Трудно представить людей, которые бы имели желание работать в таком возрасте, поэтому эти данные можно считать выбросами. Большинство соискателей находятся в возрасте от 22 до 36 лет."
   ]
  },
  {
   "cell_type": "code",
   "execution_count": null,
   "id": "a1c504c1",
   "metadata": {},
   "outputs": [],
   "source": [
    "fig = make_subplots(rows=1, cols=2)\n",
    "\n",
    "fig.add_trace(go.Histogram(x=hh_data['Опыт работы кандидата']),\n",
    "              row=1, col=1)\n",
    "\n",
    "fig.update_xaxes(title_text=\"work experience\", row=1, col=1)\n",
    "\n",
    "fig.add_trace(go.Box(y=hh_data['Опыт работы кандидата']),\n",
    "    row=1, col=2)\n",
    "\n",
    "fig.update_yaxes(title_text=\"work experience\", row=1, col=2)\n",
    "\n",
    "fig.update_layout(height=600, width=900, title_text=\"Распределение опыта работы кандидатов\")\n",
    "fig.show()\n",
    "fig.write_html(\"C:\\\\Users\\\\Admin\\\\Desktop\\\\SkillFactory\\\\Plotly\\\\work_experience.html\")"
   ]
  },
  {
   "cell_type": "markdown",
   "id": "cf664640",
   "metadata": {},
   "source": [
    "По данным графикам, мы можем проанализировать признак опыта работы кандидата (в месяцах). Минимальное значение - 1 месяц работы, модальное значение - 81.0 месяцев работы. Максимальное значение  - 1188 является явной аномалией и ухудшает качество нашего датафрейма. Разделив это значение на 12, мы поймем, что человек работал 99 лет, что в реальной жизни невозможно. Поэтому данная запись является выбросом. Большинство соискателей проработало от 57 до 154 месяцев."
   ]
  },
  {
   "cell_type": "code",
   "execution_count": null,
   "id": "9801768e",
   "metadata": {},
   "outputs": [],
   "source": [
    "fig = make_subplots(rows=1, cols=2)\n",
    "\n",
    "fig.add_trace(go.Scatter(y=hh_data['ЗП (руб)']),\n",
    "              row=1, col=1)\n",
    "\n",
    "fig.update_xaxes(title_text=\"Salary\", row=1, col=1)\n",
    "\n",
    "fig.add_trace(go.Box(y=hh_data['ЗП (руб)']),\n",
    "    row=1, col=2)\n",
    "\n",
    "fig.update_yaxes(title_text=\"Salary\", row=1, col=2)\n",
    "\n",
    "fig.update_layout(height=600, width=900, title_text=\"Распределение заработной платы кандидатов\")\n",
    "fig.show()\n",
    "fig.write_html(\"C:\\\\Users\\\\Admin\\\\Desktop\\\\SkillFactory\\\\Plotly\\\\Salary.html\")"
   ]
  },
  {
   "cell_type": "markdown",
   "id": "60d4bd4a",
   "metadata": {},
   "source": [
    "Модальное значение равняется пятидесяти тысячам рублей. Минимальное значение - 1 рубль, максимальное - 24 миллиона рублей. Большинство соискателей предпочли бы заработную плату в размере от 35 до 94 тысяч рублей. У нас также видны аномалии на графике - самая максимальная требуемая заработная плата составляет 24 миллиона рублей, что сильно искажает графики и в реальной жизни подобная заработная плата у работника является скорее воображаемой."
   ]
  },
  {
   "cell_type": "code",
   "execution_count": null,
   "id": "592c70f5",
   "metadata": {},
   "outputs": [],
   "source": [
    "mask = hh_data[hh_data['ЗП (руб)'] < 1000000].groupby('Образование', as_index=False).median(numeric_only=True)\n",
    "\n",
    "fig = px.bar(mask,\n",
    "             title= \"Зависимость признака заработной платы от уровня образования\",\n",
    "             x='Образование',\n",
    "             y='ЗП (руб)',\n",
    "             color='Образование',\n",
    "             width=700,\n",
    "             height=600)\n",
    "\n",
    "fig.show()\n",
    "fig.write_html(\"C:\\\\Users\\\\Admin\\\\Desktop\\\\SkillFactory\\\\Plotly\\\\education.html\")"
   ]
  },
  {
   "cell_type": "markdown",
   "id": "84a69915",
   "metadata": {},
   "source": [
    "На данном графике, мы видим, что существует чувствительная разница между высшим и средним образование. У кандидатов с высшим образованием размер заработной платы на 33% больше, чем у кандидатов со средним или со средне-специальным образованием, а вот разницы между указанными двумя категориями образования в признаке оплаты труда нет. Судя по графику мы можем сделать вывод, что признак образования влияет на заработную плату работнику, но категории \"среднее\" и \"среднее-специальное\" имеют один и тот же показатель, возможно в дальнейшем мы можем объеденить эти две категории. "
   ]
  },
  {
   "cell_type": "code",
   "execution_count": null,
   "id": "d5a6b25e",
   "metadata": {},
   "outputs": [],
   "source": [
    "mask1 = hh_data[hh_data['ЗП (руб)'] < 1000000].groupby('Город', as_index=False).median(numeric_only=True)\n",
    "mask2 = hh_data[hh_data['ЗП (руб)'] < 1000000].groupby('Город', as_index=False).max(numeric_only=True)\n",
    "\n",
    "\n",
    "fig = make_subplots(rows=1, cols=2)\n",
    "\n",
    "fig.add_trace(go.Bar(y=mask1['ЗП (руб)'],\n",
    "                     x=mask1['Город']),\n",
    "              row=1, col=1)\n",
    "\n",
    "fig.update_xaxes(title_text=\"Median\", row=1, col=1)\n",
    "\n",
    "fig.add_trace(go.Bar(y=mask2['ЗП (руб)'],\n",
    "                     x=mask2['Город']),\n",
    "    row=1, col=2)\n",
    "\n",
    "fig.update_xaxes(title_text=\"Max\", row=1, col=2)\n",
    "\n",
    "fig.update_layout(height=600, width=900, title_text=\"Зависимость признака заработной платы от города\")\n",
    "fig.show()\n",
    "fig.write_html(\"C:\\\\Users\\\\Admin\\\\Desktop\\\\SkillFactory\\\\Plotly\\\\City.html\")"
   ]
  },
  {
   "cell_type": "markdown",
   "id": "66e7cfdc",
   "metadata": {},
   "source": [
    "Если проанализировать графики, представленные выше можно сделать вывод, что признак города не имеет важное значение при прогнозировании заработной платы, поскольку максимальное значение мы наблюдаем у категории \"другие\", но вот ее медиана в сотни раз ниже, чем максимальное значение, что может \"ввести в заблуждение\" будущую модель. Тем более, в датафрейме есть признак \"удаленная работа\", это означает, что работник может работать из одного города на фирму из другого. Поэтому данный признак не сыграет важной роли при обучении модели, возможно даже \"навредит\" ее точности."
   ]
  },
  {
   "cell_type": "code",
   "execution_count": null,
   "id": "edc16020",
   "metadata": {},
   "outputs": [],
   "source": [
    "mask1 = hh_data.groupby(by=['Готовность к переезду', 'Готовность к командировкам'], as_index=False)['ЗП (руб)'].median()\n",
    "\n",
    "fig = make_subplots(rows=1, cols=2)\n",
    "\n",
    "fig.add_trace(go.Bar(y=mask1['ЗП (руб)'],\n",
    "                     x=mask1['Готовность к переезду']),\n",
    "              row=1, col=1)\n",
    "\n",
    "fig.add_trace(go.Bar(y=mask1['ЗП (руб)'],\n",
    "                     x=mask1['Готовность к командировкам']),\n",
    "    row=1, col=2)\n",
    "\n",
    "fig.update_xaxes(title_text=\"Готовность к переезду\", row=1, col=1)\n",
    "fig.update_xaxes(title_text=\"Готовность к командировкам\", row=1, col=2)\n",
    "fig.update_yaxes(title_text=\"Заработная плата\", row=1, col=1)\n",
    "fig.update_yaxes(title_text=\"Заработная плата\", row=1, col=2)\n",
    "\n",
    "fig.update_layout(height=600, width=900, title_text=\"Зависимость признака заработной платы от готовности к переезду, командировкам\")\n",
    "fig.show()\n",
    "fig.write_html(\"C:\\\\Users\\\\Admin\\\\Desktop\\\\SkillFactory\\\\Plotly\\\\business_trip.html\")"
   ]
  },
  {
   "cell_type": "markdown",
   "id": "24a7fe4b",
   "metadata": {},
   "source": [
    "Здесь мы наблюдаем явную зависимость заработной платы от признака \"Готовности к командировкам\". На графике, данный признак чувствительно влияет на размер заработной платы работника, чего нельзя сказать по признаку \"Готовность к переезду\". Исходя из графика данного признака, можно сделать вывод, что \"Готовность к переезду\" практически не влияет на размер заработной платы работников."
   ]
  },
  {
   "cell_type": "code",
   "execution_count": null,
   "id": "62666af5",
   "metadata": {},
   "outputs": [],
   "source": [
    "mask = hh_data.pivot_table(values='ЗП (руб)',\n",
    "                           index='Образование',\n",
    "                           columns='Возраст',\n",
    "                           aggfunc='median')\n",
    "fig = px.imshow(mask)\n",
    "fig.update_layout(height=600, width=900, title_text=\"Зависимость признака заработной платы от возраста и образования работника\")\n",
    "\n",
    "fig.show()\n",
    "fig.write_html(\"C:\\\\Users\\\\Admin\\\\Desktop\\\\SkillFactory\\\\Plotly\\\\Age_and_education.html\")"
   ]
  },
  {
   "cell_type": "markdown",
   "id": "78cfeec8",
   "metadata": {},
   "source": [
    "По графику видно, что интенсивность роста заработной платы наибольшая у категории людей с высшим образованием, а вот наименьшая интенсивность роста заработной платы  у категорий \"среднее специальное\" и \"среднее\". \n",
    "Тепловая карта искажена данными о том, что кто-то желает найти работу в возрасте 100 и 77 лет, что физически невозможно. Скорее всего это выбросы, от которых мы избавимся на этапе очистки данных. Также мы можем затить пропуски в данных и аномалии, например, высшее образование в 14 лет, что тоже скорее всего является выбросом."
   ]
  },
  {
   "cell_type": "code",
   "execution_count": null,
   "id": "5b214d49",
   "metadata": {},
   "outputs": [],
   "source": [
    "df_copy = hh_data.copy()\n",
    "df_copy['Опыт работы(год)'] = df_copy['Опыт работы кандидата'] / 12\n",
    "\n",
    "fig1 = px.scatter(\n",
    "    data_frame=df_copy,\n",
    "    x = 'Возраст',\n",
    "    y = 'Опыт работы(год)',\n",
    "    color='Возраст',\n",
    "    width=800,\n",
    "    height=500,\n",
    "    title='Зависимость опыта работы от возраста',\n",
    ")\n",
    "fig2 = px.line(df_copy, x=[0, 100], y=[0, 100])\n",
    "fig = go.Figure(data = fig1.data + fig2.data)\n",
    "fig.update_layout(height=600, width=900, title_text=\"Сравнение признаков опыта работы и возраста работников\")\n",
    "fig.update_xaxes(title_text=\"Возраст\")\n",
    "fig.update_yaxes(title_text=\"Опыт работы\")\n",
    "\n",
    "fig.show()\n",
    "fig.write_html(\"C:\\\\Users\\\\Admin\\\\Desktop\\\\SkillFactory\\\\Plotly\\\\work_experience_and_age.html\")"
   ]
  },
  {
   "cell_type": "markdown",
   "id": "235a9614",
   "metadata": {},
   "source": [
    "С помощью данного графика, мы можем точно определить, что в наших данных есть выбросы. Те точки, которые находятся выше линиии или на линии являются выбросами, поскольку невозможен физически опыт работы больше, чем количество лет работнику. Эти данные определенно негативным образом повлияют на нашу модель машинного обучения, в связи с чем нам следует от этих данных избавиться."
   ]
  },
  {
   "cell_type": "markdown",
   "id": "03c9db35",
   "metadata": {},
   "source": [
    "# ОЧИСТКА ДАННЫХ"
   ]
  },
  {
   "cell_type": "code",
   "execution_count": null,
   "id": "8dcdfcd5",
   "metadata": {},
   "outputs": [],
   "source": [
    "# Поиск дубликатов\n",
    "dupl_columns = list(hh_data.columns)\n",
    "mask = hh_data.duplicated(subset=dupl_columns)\n",
    "hh_duplicates = hh_data[mask]\n",
    "print(f'Число найденных дубликатов: {hh_duplicates.shape[0]}')\n",
    "hh_data = hh_data.drop_duplicates(subset=dupl_columns)"
   ]
  },
  {
   "cell_type": "code",
   "execution_count": null,
   "id": "a234d6ef",
   "metadata": {},
   "outputs": [],
   "source": [
    "# Число пропусков в столбцах\n",
    "colls_null_percent = hh_data.isnull().mean() * 100\n",
    "cols_with_null = colls_null_percent[colls_null_percent>0].sort_values(ascending=False)\n",
    "display(colls_null_percent)"
   ]
  },
  {
   "cell_type": "code",
   "execution_count": null,
   "id": "2b0a2c52",
   "metadata": {},
   "outputs": [],
   "source": [
    "# Заполнение недостающих значений константами (медианными значениями) и удаление строк, где пропусков больше, чем 1\n",
    "hh_data['Опыт работы кандидата'].fillna(value=hh_data['Опыт работы кандидата'].median())\n",
    "hh_data = hh_data.dropna(subset=['Последнее/нынешнее место работы', 'Последняя/нынешняя должность'])"
   ]
  },
  {
   "cell_type": "code",
   "execution_count": null,
   "id": "5c6c8109",
   "metadata": {},
   "outputs": [],
   "source": [
    "# Удаляем строки, где заработная плата больше одного миллиона и меньше одной тысячи рублей \n",
    "outliers = hh_data[(hh_data['ЗП (руб)'] > 1e6) | (hh_data['ЗП (руб)'] < 1e3)]\n",
    "hh_data = hh_data.drop(outliers.index)"
   ]
  },
  {
   "cell_type": "code",
   "execution_count": null,
   "id": "363f3224",
   "metadata": {},
   "outputs": [],
   "source": [
    "# Функция поиска выбросов с помощью метода Z-отклонений\n",
    "def outliers_z_score(data, feature, log_scale=False):\n",
    "    if log_scale == True:\n",
    "        x = np.log(data[feature] +1)\n",
    "    else:\n",
    "        x = data[feature]\n",
    "    mu = x.mean()\n",
    "    sigma = x.std()\n",
    "    lower_bound = mu - 3 * sigma\n",
    "    upper_bound = mu + 4 * sigma\n",
    "    outliers = data[(x<lower_bound) | (x>upper_bound)]\n",
    "    cleaned_data = [(x>lower_bound) | (x<upper_bound)]\n",
    "    return outliers\n",
    "\n",
    "display(outliers_z_score(hh_data, 'Возраст', log_scale=False))\n",
    "\n",
    "fig = px.histogram(hh_data, x = 'Возраст', title = 'Распределение возраста')\n",
    "fig.add_shape(type = 'line',\n",
    "                y0 = 0,\n",
    "                x0 = hh_data['Возраст'].mean(),\n",
    "                y1 = hh_data['Возраст'].value_counts().max(),\n",
    "                x1 = hh_data['Возраст'].mean(),\n",
    "                line = dict(color='Red'),\n",
    "                )\n",
    "fig.add_shape(type = 'line',\n",
    "                y0 = 0,\n",
    "                x0 = hh_data['Возраст'].mean() - 3 * hh_data['Возраст'].std(),\n",
    "                y1 = hh_data['Возраст'].value_counts().max(),\n",
    "                x1 = hh_data['Возраст'].mean() - 3 * hh_data['Возраст'].std(),\n",
    "                line = dict(color='Green'),\n",
    "                )\n",
    "fig.add_shape(type = 'line',\n",
    "                y0 = 0,\n",
    "                x0 = hh_data['Возраст'].mean() + 4 * hh_data['Возраст'].std(),\n",
    "                y1 = hh_data['Возраст'].value_counts().max(),\n",
    "                x1 = hh_data['Возраст'].mean() + 4 * hh_data['Возраст'].std(),\n",
    "                line = dict(color='Green'),\n",
    "                )\n",
    "fig.show();"
   ]
  },
  {
   "cell_type": "markdown",
   "id": "a71ed4e9",
   "metadata": {},
   "source": [
    "Таким образом, мы провели огромную работу по преобразованию, исследованию и очистке данных. Теперь, мы можем обучать модель машинного обучения по нашему датасету, но, конечно, для корректной работы модели преобразований мало. Мы довольно мало провели исследований зависимостей данных, что нужно будет делать еще, чтобы сделать полезные выводы о пригодности признаков для дальнейшего обучения.  "
   ]
  }
 ],
 "metadata": {
  "kernelspec": {
   "display_name": "Python 3 (ipykernel)",
   "language": "python",
   "name": "python3"
  },
  "language_info": {
   "codemirror_mode": {
    "name": "ipython",
    "version": 3
   },
   "file_extension": ".py",
   "mimetype": "text/x-python",
   "name": "python",
   "nbconvert_exporter": "python",
   "pygments_lexer": "ipython3",
   "version": "3.9.7"
  }
 },
 "nbformat": 4,
 "nbformat_minor": 5
}
